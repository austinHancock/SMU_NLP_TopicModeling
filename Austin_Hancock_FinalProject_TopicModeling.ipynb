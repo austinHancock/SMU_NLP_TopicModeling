{
 "cells": [
  {
   "cell_type": "markdown",
   "metadata": {},
   "source": [
    "##### Austin Hancock\n",
    "\n",
    "## MSDS 7337 - Section 401\n",
    "## Homework - #8\n",
    "[Data Science @ Southern Methodist University](https://datascience.smu.edu/)"
   ]
  },
  {
   "cell_type": "markdown",
   "metadata": {},
   "source": [
    "## Table of Contents\n",
    "* [Description](#Description)\n",
    "* [Tools](#Tools)\n",
    "* [Hypothesis](#Hypothesis)\n",
    "* [Data Extraction](#Data-Extraction)\n",
    "* [Results](#Hypothesis)\n",
    "    * [NMF Model](#NMF-Model)\n",
    "    * [LDA Model](#LDA-Model)\n",
    "* [Conclusion](#Conclusion)"
   ]
  },
  {
   "cell_type": "markdown",
   "metadata": {},
   "source": [
    "## <a name=\"Description\"></a>Description\n",
    "For the Final Project I will be addressing the following:\n",
    "\n",
    "    - Using the IMDB movie reviews from homeworks 5 and 7 as the dataset, perform topic modeling analysis \n",
    "    working with NMF and/or LDA."
   ]
  },
  {
   "cell_type": "markdown",
   "metadata": {},
   "source": [
    "## <a name=\"Tools\"></a>Tools"
   ]
  },
  {
   "cell_type": "code",
   "execution_count": 10,
   "metadata": {},
   "outputs": [
    {
     "name": "stdout",
     "output_type": "stream",
     "text": [
      "Windows-10-10.0.17134-SP0\n",
      "Python 3.6.3 |Anaconda custom (64-bit)| (default, Oct 15 2017, 03:27:45) [MSC v.1900 64 bit (AMD64)]\n",
      "NLTK 3.2.4\n",
      "bs4 4.6.0\n",
      "re 2.2.1\n",
      "Pandas 0.20.3\n",
      "sklearn 0.19.1\n",
      "np 1.14.2\n"
     ]
    },
    {
     "name": "stderr",
     "output_type": "stream",
     "text": [
      "C:\\Users\\ahancock\\AppData\\Local\\Continuum\\anaconda3\\lib\\site-packages\\nltk\\twitter\\__init__.py:20: UserWarning:\n",
      "\n",
      "The twython library has not been installed. Some functionality from the twitter package will not be available.\n",
      "\n"
     ]
    }
   ],
   "source": [
    "import platform; print(platform.platform())\n",
    "import sys; print(\"Python\", sys.version)\n",
    "import nltk; print(\"NLTK\", nltk.__version__)\n",
    "import bs4; print(\"bs4\", bs4.__version__)\n",
    "from bs4 import BeautifulSoup\n",
    "import urllib\n",
    "from urllib import request\n",
    "import re; print(\"re\", re.__version__)\n",
    "from nltk.tokenize import word_tokenize\n",
    "from nltk.corpus import stopwords\n",
    "import pandas as pd; print(\"Pandas\", pd.__version__)\n",
    "import sklearn; print(\"sklearn\", sklearn.__version__)\n",
    "from sklearn.feature_extraction.text import CountVectorizer\n",
    "from sklearn.feature_extraction.text import TfidfVectorizer\n",
    "from sklearn.feature_extraction.text import TfidfTransformer\n",
    "from sklearn.metrics.pairwise import cosine_similarity\n",
    "from scipy import sparse\n",
    "from sklearn.cluster import KMeans\n",
    "from collections import Counter\n",
    "from sklearn import svm\n",
    "import numpy as np; print(\"np\", np.__version__)\n",
    "from sklearn.linear_model import SGDClassifier\n",
    "from sklearn import metrics\n",
    "from nltk.sentiment.vader import SentimentIntensityAnalyzer\n",
    "from sklearn.decomposition import NMF, LatentDirichletAllocation\n",
    "from bokeh.io import push_notebook, show, output_notebook\n",
    "from bokeh.plotting import figure\n",
    "from bokeh.models import ColumnDataSource, LabelSet\n",
    "from sklearn.decomposition import TruncatedSVD\n",
    "from time import time\n",
    "from sklearn.feature_extraction import text"
   ]
  },
  {
   "cell_type": "markdown",
   "metadata": {},
   "source": [
    "## <a name=\"Hypothesis\"></a>Hypothesis"
   ]
  },
  {
   "cell_type": "markdown",
   "metadata": {},
   "source": [
    "To begin, I first need to decide which topic modeling approach is best for the dataset I am working with; Latent Dirichlet Allocation (LDA) or Non-Negative Matrix Factorization (NMF). While LDA has the ability for topics to share keywods and separate word tenses (which could both be useful in topic modeling), NMF forces a sparse number of topics and is better suited for analyzing movie reviews since these tend to be very short. \n",
    "\n",
    "In addition to which topic modeling approach will be best, I also am going to predict that the number of topics which produce an intuitive separation is 7. This prediciton comes from homework 7 in which I found that, using the K-Means clustering method, having 7 clusters produced feature names that were intuitive to understanding what the cluster's unerlying reviews were about."
   ]
  },
  {
   "cell_type": "markdown",
   "metadata": {},
   "source": [
    "## <a name=\"Data-Extraction\"></a>Data Extraction"
   ]
  },
  {
   "cell_type": "markdown",
   "metadata": {},
   "source": [
    "To begin, I first need to bring in the reviews from homeworks 5 and 7."
   ]
  },
  {
   "cell_type": "code",
   "execution_count": 12,
   "metadata": {},
   "outputs": [],
   "source": [
    "# Links to reviews of movies\n",
    "moana_url = \"https://www.imdb.com/title/tt3521164/reviews?ref_=tt_ql_3\"\n",
    "frozen_url = 'https://www.imdb.com/title/tt2294629/reviews?ref_=tt_ql_3'\n",
    "coco_url = 'https://www.imdb.com/title/tt2380307/reviews?ref_=tt_ql_3'\n",
    "LionKing_url = 'https://www.imdb.com/title/tt0110357/reviews?ref_=tt_ql_3'\n",
    "\n",
    "def find_permalinks(url):\n",
    "    page = request.urlopen(url)\n",
    "    soup = BeautifulSoup(page, 'html.parser')\n",
    "    review_containers = soup.find_all('div', class_ = 'review-container')\n",
    "    for review in review_containers:\n",
    "        permalinks.append(\"https://www.imdb.com\" + review.find('a', attrs={'href': re.compile(\"/review\")}).get('href'))\n",
    "        \n",
    "# Permalinks to reviews\n",
    "permalinks = []\n",
    "\n",
    "find_permalinks(moana_url)\n",
    "find_permalinks(frozen_url)\n",
    "find_permalinks(coco_url)\n",
    "find_permalinks(LionKing_url)"
   ]
  },
  {
   "cell_type": "code",
   "execution_count": 13,
   "metadata": {},
   "outputs": [],
   "source": [
    "# Grab the main review and rating from each link and add to list\n",
    "reviews = []\n",
    "ratings = []\n",
    "\n",
    "for link in permalinks:\n",
    "    page = request.urlopen(link)\n",
    "    soup = BeautifulSoup(page, 'html.parser')\n",
    "    review_containers = soup.find_all('div', class_ = 'review-container')\n",
    "    for review in review_containers:\n",
    "        reviews.append(review.find(class_ = 'text show-more__control').text)"
   ]
  },
  {
   "cell_type": "code",
   "execution_count": 14,
   "metadata": {},
   "outputs": [
    {
     "name": "stdout",
     "output_type": "stream",
     "text": [
      "Moana is a return to the classic Disney formula, the clichés and characters ripped from a number of other animated films. However, the pure beauty and skill of the production rises the old story into new heights.Following from the success of Zootropolis, Moana follows a more traditional narrative we know and love; the princess who wishes for something more and is whisked on a supernatural adventure. We know this story so well yet Moana seems fresh and thrilling as if the plot was innovative. Perhaps this is due to the Polynesian setting or the morally ambiguous Maui, played perfectly by Dwayne Johnson, but most likely it is it the simple magic of Disney – the wonder for both children and adults has reached its peak with the perfection of the classic formula. For once, the clichés make the film more enjoyable. The quality of the animation helps too: it's clear they have reached the pinnacle of blending realistic textures with stylised designs, creating an aesthetic beauty that few other companies can match – Disney have mastered water to the point it looks better animated than in real life! Even the music has been perfected here, the annoying catchiness of Frozen's tunes replaced by memorable but effective songs that fit the culture and setting of our adventure. A childlike warmth was awakened in me and many other adult members of the audience as the film brought the emotional highs of the Disney renaissance without the modern subversion of the classic tropes. While Moana sometimes threatens this with pop culture references, the film thankfully keeps to mostly traditional values and morals; a step above many children's animated films released today.Moana is good, old fashioned Disney magic; the traditional narrative and morals updated with stellar animation and an awareness that's effective but never overpowering enough to threaten the integrity of the Disney formula.SWEETVisit https://sweetorsaltedmoviereviews.com/ for more.\n"
     ]
    }
   ],
   "source": [
    "# Confirm extraction of reviews and rating\n",
    "print(reviews[0])"
   ]
  },
  {
   "cell_type": "markdown",
   "metadata": {},
   "source": [
    "## <a name=\"Results\"></a>Results"
   ]
  },
  {
   "cell_type": "markdown",
   "metadata": {},
   "source": [
    "#### <a name=\"NMF-Model\"></a>NMF Model"
   ]
  },
  {
   "cell_type": "markdown",
   "metadata": {},
   "source": [
    "I begin my first approach by creating a count vectorizer and building the NMF model."
   ]
  },
  {
   "cell_type": "code",
   "execution_count": 15,
   "metadata": {},
   "outputs": [
    {
     "name": "stdout",
     "output_type": "stream",
     "text": [
      "Model shape:  (100, 7)\n",
      "First review:  [0.83179423 0.05038102 0.29532762 0.55819483 0.         0.\n",
      " 0.        ]\n"
     ]
    }
   ],
   "source": [
    "# Vectorize the reviews using CountVectorizer\n",
    "count_vectorizer = CountVectorizer(min_df=5, \n",
    "                                   max_df=0.9,\n",
    "                                   stop_words='english',\n",
    "                                   lowercase=True,\n",
    "                                   token_pattern='[a-zA-Z\\-][a-zA-Z\\-]{2,}')\n",
    "reviews_vectorized = count_vectorizer.fit_transform(reviews)\n",
    "\n",
    "# Build NMF Model\n",
    "num_topics = 7\n",
    "nmf_model = NMF(n_components=num_topics)\n",
    "nmf_Z = nmf_model.fit_transform(reviews_vectorized)\n",
    "\n",
    "print('Model shape: ',nmf_Z.shape)\n",
    "print('First review: ',nmf_Z[0])"
   ]
  },
  {
   "cell_type": "markdown",
   "metadata": {},
   "source": [
    "Above, you can see that the review is being weighted to different topics. Let's try and get some more information on what words make up these topics."
   ]
  },
  {
   "cell_type": "code",
   "execution_count": 16,
   "metadata": {},
   "outputs": [
    {
     "name": "stdout",
     "output_type": "stream",
     "text": [
      "NMF Model:\n",
      "Topic 0:\n",
      "[('disney', 5.350093693114414), ('movie', 2.118641608750007), ('movies', 1.3661164345433725), ('frozen', 1.1861026335242362), ('characters', 0.8554951766628711), ('animation', 0.835582590084551), ('people', 0.8020675726594527), ('songs', 0.7455918375414003), ('films', 0.7102453879579702), ('hans', 0.687288660106188)]\n",
      "Topic 1:\n",
      "[('elsa', 4.28303229513917), ('anna', 2.2103288538113848), ('film', 1.7901741719587492), ('love', 1.6105314943504727), ('story', 1.5835112226825865), ('beast', 1.3238383512034901), ('character', 1.0011744951701387), ('frozen', 0.9749414935418004), ('better', 0.5743931033269009), ('interesting', 0.5630382062608369)]\n",
      "Topic 2:\n",
      "[('king', 2.585949664269403), ('simba', 2.188990680204031), ('film', 2.001058414130342), ('lion', 1.9733890095787952), ('scar', 1.2278433143369314), ('animated', 0.9194031827589225), ('mufasa', 0.8530724149819668), ('best', 0.8512950142407938), ('story', 0.8467764476041851), ('animation', 0.7400838796365373)]\n",
      "Topic 3:\n",
      "[('moana', 2.09679161312717), ('film', 1.9795440498797052), ('maui', 1.7772150477488442), ('just', 1.6958170351260367), ('character', 1.3280869208390105), ('story', 1.0196124199760128), ('did', 0.9890078768575127), ('songs', 0.887182227051509), ('little', 0.8373818744621052), ('like', 0.7793773761905941)]\n",
      "Topic 4:\n",
      "[('anna', 2.754592747641515), ('elsa', 2.3379054947709217), ('love', 2.0015196712132464), ('hans', 1.311740580087161), ('kristoff', 1.1967702979667316), ('like', 0.9124582398180069), ('true', 0.8325294112779525), ('trolls', 0.8135637083320313), ('princess', 0.784867503862608), ('just', 0.7773563768402502)]\n",
      "Topic 5:\n",
      "[('movie', 2.013793795152135), ('love', 1.9474057506159546), ('simba', 1.5844549739326121), ('just', 0.9848229939482748), ('don', 0.7601457805525142), ('disney', 0.6863677680529557), ('mufasa', 0.6384297904591456), ('characters', 0.5817907597571373), ('scar', 0.576958232369173), ('look', 0.5705656845359588)]\n",
      "Topic 6:\n",
      "[('movie', 5.134866656344685), ('like', 1.6911405858448643), ('movies', 1.1371351263447709), ('good', 1.0332299507581617), ('pixar', 0.9872288449133352), ('just', 0.9844539692680853), ('think', 0.8747618314834031), ('really', 0.7026126149395812), ('great', 0.6976503769953084), ('life', 0.6841053707197496)]\n",
      "====================\n"
     ]
    }
   ],
   "source": [
    "def print_topics(model, vectorizer, top_n=10):\n",
    "    for idx, topic in enumerate(model.components_):\n",
    "        print(\"Topic %d:\" % (idx))\n",
    "        print([(vectorizer.get_feature_names()[i], topic[i])\n",
    "                        for i in topic.argsort()[:-top_n - 1:-1]])\n",
    "\n",
    "print(\"NMF Model:\")\n",
    "print_topics(nmf_model, count_vectorizer)\n",
    "print(\"=\" * 20)"
   ]
  },
  {
   "cell_type": "markdown",
   "metadata": {},
   "source": [
    "Great! Now we can see which words are in each of our topics. But the above output doesn't do much to tell me how the reviews are different from each other in an intuitive manner. Let's see if we can create some visualizations to give us an overall understaning of how these reviews differ from one another."
   ]
  },
  {
   "cell_type": "code",
   "execution_count": 17,
   "metadata": {},
   "outputs": [
    {
     "data": {
      "text/html": [
       "\n",
       "    <div class=\"bk-root\">\n",
       "        <a href=\"https://bokeh.pydata.org\" target=\"_blank\" class=\"bk-logo bk-logo-small bk-logo-notebook\"></a>\n",
       "        <span id=\"9e59d1b8-c3c9-494a-b164-6449a22475e4\">Loading BokehJS ...</span>\n",
       "    </div>"
      ]
     },
     "metadata": {},
     "output_type": "display_data"
    },
    {
     "data": {
      "application/javascript": [
       "\n",
       "(function(root) {\n",
       "  function now() {\n",
       "    return new Date();\n",
       "  }\n",
       "\n",
       "  var force = true;\n",
       "\n",
       "  if (typeof (root._bokeh_onload_callbacks) === \"undefined\" || force === true) {\n",
       "    root._bokeh_onload_callbacks = [];\n",
       "    root._bokeh_is_loading = undefined;\n",
       "  }\n",
       "\n",
       "  var JS_MIME_TYPE = 'application/javascript';\n",
       "  var HTML_MIME_TYPE = 'text/html';\n",
       "  var EXEC_MIME_TYPE = 'application/vnd.bokehjs_exec.v0+json';\n",
       "  var CLASS_NAME = 'output_bokeh rendered_html';\n",
       "\n",
       "  /**\n",
       "   * Render data to the DOM node\n",
       "   */\n",
       "  function render(props, node) {\n",
       "    var script = document.createElement(\"script\");\n",
       "    node.appendChild(script);\n",
       "  }\n",
       "\n",
       "  /**\n",
       "   * Handle when an output is cleared or removed\n",
       "   */\n",
       "  function handleClearOutput(event, handle) {\n",
       "    var cell = handle.cell;\n",
       "\n",
       "    var id = cell.output_area._bokeh_element_id;\n",
       "    var server_id = cell.output_area._bokeh_server_id;\n",
       "    // Clean up Bokeh references\n",
       "    if (id !== undefined) {\n",
       "      Bokeh.index[id].model.document.clear();\n",
       "      delete Bokeh.index[id];\n",
       "    }\n",
       "\n",
       "    if (server_id !== undefined) {\n",
       "      // Clean up Bokeh references\n",
       "      var cmd = \"from bokeh.io.state import curstate; print(curstate().uuid_to_server['\" + server_id + \"'].get_sessions()[0].document.roots[0]._id)\";\n",
       "      cell.notebook.kernel.execute(cmd, {\n",
       "        iopub: {\n",
       "          output: function(msg) {\n",
       "            var element_id = msg.content.text.trim();\n",
       "            Bokeh.index[element_id].model.document.clear();\n",
       "            delete Bokeh.index[element_id];\n",
       "          }\n",
       "        }\n",
       "      });\n",
       "      // Destroy server and session\n",
       "      var cmd = \"import bokeh.io.notebook as ion; ion.destroy_server('\" + server_id + \"')\";\n",
       "      cell.notebook.kernel.execute(cmd);\n",
       "    }\n",
       "  }\n",
       "\n",
       "  /**\n",
       "   * Handle when a new output is added\n",
       "   */\n",
       "  function handleAddOutput(event, handle) {\n",
       "    var output_area = handle.output_area;\n",
       "    var output = handle.output;\n",
       "\n",
       "    // limit handleAddOutput to display_data with EXEC_MIME_TYPE content only\n",
       "    if ((output.output_type != \"display_data\") || (!output.data.hasOwnProperty(EXEC_MIME_TYPE))) {\n",
       "      return\n",
       "    }\n",
       "\n",
       "    var toinsert = output_area.element.find(`.${CLASS_NAME.split(' ')[0]}`);\n",
       "\n",
       "    if (output.metadata[EXEC_MIME_TYPE][\"id\"] !== undefined) {\n",
       "      toinsert[0].firstChild.textContent = output.data[JS_MIME_TYPE];\n",
       "      // store reference to embed id on output_area\n",
       "      output_area._bokeh_element_id = output.metadata[EXEC_MIME_TYPE][\"id\"];\n",
       "    }\n",
       "    if (output.metadata[EXEC_MIME_TYPE][\"server_id\"] !== undefined) {\n",
       "      var bk_div = document.createElement(\"div\");\n",
       "      bk_div.innerHTML = output.data[HTML_MIME_TYPE];\n",
       "      var script_attrs = bk_div.children[0].attributes;\n",
       "      for (var i = 0; i < script_attrs.length; i++) {\n",
       "        toinsert[0].firstChild.setAttribute(script_attrs[i].name, script_attrs[i].value);\n",
       "      }\n",
       "      // store reference to server id on output_area\n",
       "      output_area._bokeh_server_id = output.metadata[EXEC_MIME_TYPE][\"server_id\"];\n",
       "    }\n",
       "  }\n",
       "\n",
       "  function register_renderer(events, OutputArea) {\n",
       "\n",
       "    function append_mime(data, metadata, element) {\n",
       "      // create a DOM node to render to\n",
       "      var toinsert = this.create_output_subarea(\n",
       "        metadata,\n",
       "        CLASS_NAME,\n",
       "        EXEC_MIME_TYPE\n",
       "      );\n",
       "      this.keyboard_manager.register_events(toinsert);\n",
       "      // Render to node\n",
       "      var props = {data: data, metadata: metadata[EXEC_MIME_TYPE]};\n",
       "      render(props, toinsert[0]);\n",
       "      element.append(toinsert);\n",
       "      return toinsert\n",
       "    }\n",
       "\n",
       "    /* Handle when an output is cleared or removed */\n",
       "    events.on('clear_output.CodeCell', handleClearOutput);\n",
       "    events.on('delete.Cell', handleClearOutput);\n",
       "\n",
       "    /* Handle when a new output is added */\n",
       "    events.on('output_added.OutputArea', handleAddOutput);\n",
       "\n",
       "    /**\n",
       "     * Register the mime type and append_mime function with output_area\n",
       "     */\n",
       "    OutputArea.prototype.register_mime_type(EXEC_MIME_TYPE, append_mime, {\n",
       "      /* Is output safe? */\n",
       "      safe: true,\n",
       "      /* Index of renderer in `output_area.display_order` */\n",
       "      index: 0\n",
       "    });\n",
       "  }\n",
       "\n",
       "  // register the mime type if in Jupyter Notebook environment and previously unregistered\n",
       "  if (root.Jupyter !== undefined) {\n",
       "    var events = require('base/js/events');\n",
       "    var OutputArea = require('notebook/js/outputarea').OutputArea;\n",
       "\n",
       "    if (OutputArea.prototype.mime_types().indexOf(EXEC_MIME_TYPE) == -1) {\n",
       "      register_renderer(events, OutputArea);\n",
       "    }\n",
       "  }\n",
       "\n",
       "  \n",
       "  if (typeof (root._bokeh_timeout) === \"undefined\" || force === true) {\n",
       "    root._bokeh_timeout = Date.now() + 5000;\n",
       "    root._bokeh_failed_load = false;\n",
       "  }\n",
       "\n",
       "  var NB_LOAD_WARNING = {'data': {'text/html':\n",
       "     \"<div style='background-color: #fdd'>\\n\"+\n",
       "     \"<p>\\n\"+\n",
       "     \"BokehJS does not appear to have successfully loaded. If loading BokehJS from CDN, this \\n\"+\n",
       "     \"may be due to a slow or bad network connection. Possible fixes:\\n\"+\n",
       "     \"</p>\\n\"+\n",
       "     \"<ul>\\n\"+\n",
       "     \"<li>re-rerun `output_notebook()` to attempt to load from CDN again, or</li>\\n\"+\n",
       "     \"<li>use INLINE resources instead, as so:</li>\\n\"+\n",
       "     \"</ul>\\n\"+\n",
       "     \"<code>\\n\"+\n",
       "     \"from bokeh.resources import INLINE\\n\"+\n",
       "     \"output_notebook(resources=INLINE)\\n\"+\n",
       "     \"</code>\\n\"+\n",
       "     \"</div>\"}};\n",
       "\n",
       "  function display_loaded() {\n",
       "    var el = document.getElementById(\"9e59d1b8-c3c9-494a-b164-6449a22475e4\");\n",
       "    if (el != null) {\n",
       "      el.textContent = \"BokehJS is loading...\";\n",
       "    }\n",
       "    if (root.Bokeh !== undefined) {\n",
       "      if (el != null) {\n",
       "        el.textContent = \"BokehJS \" + root.Bokeh.version + \" successfully loaded.\";\n",
       "      }\n",
       "    } else if (Date.now() < root._bokeh_timeout) {\n",
       "      setTimeout(display_loaded, 100)\n",
       "    }\n",
       "  }\n",
       "\n",
       "\n",
       "  function run_callbacks() {\n",
       "    try {\n",
       "      root._bokeh_onload_callbacks.forEach(function(callback) { callback() });\n",
       "    }\n",
       "    finally {\n",
       "      delete root._bokeh_onload_callbacks\n",
       "    }\n",
       "    console.info(\"Bokeh: all callbacks have finished\");\n",
       "  }\n",
       "\n",
       "  function load_libs(js_urls, callback) {\n",
       "    root._bokeh_onload_callbacks.push(callback);\n",
       "    if (root._bokeh_is_loading > 0) {\n",
       "      console.log(\"Bokeh: BokehJS is being loaded, scheduling callback at\", now());\n",
       "      return null;\n",
       "    }\n",
       "    if (js_urls == null || js_urls.length === 0) {\n",
       "      run_callbacks();\n",
       "      return null;\n",
       "    }\n",
       "    console.log(\"Bokeh: BokehJS not loaded, scheduling load and callback at\", now());\n",
       "    root._bokeh_is_loading = js_urls.length;\n",
       "    for (var i = 0; i < js_urls.length; i++) {\n",
       "      var url = js_urls[i];\n",
       "      var s = document.createElement('script');\n",
       "      s.src = url;\n",
       "      s.async = false;\n",
       "      s.onreadystatechange = s.onload = function() {\n",
       "        root._bokeh_is_loading--;\n",
       "        if (root._bokeh_is_loading === 0) {\n",
       "          console.log(\"Bokeh: all BokehJS libraries loaded\");\n",
       "          run_callbacks()\n",
       "        }\n",
       "      };\n",
       "      s.onerror = function() {\n",
       "        console.warn(\"failed to load library \" + url);\n",
       "      };\n",
       "      console.log(\"Bokeh: injecting script tag for BokehJS library: \", url);\n",
       "      document.getElementsByTagName(\"head\")[0].appendChild(s);\n",
       "    }\n",
       "  };var element = document.getElementById(\"9e59d1b8-c3c9-494a-b164-6449a22475e4\");\n",
       "  if (element == null) {\n",
       "    console.log(\"Bokeh: ERROR: autoload.js configured with elementid '9e59d1b8-c3c9-494a-b164-6449a22475e4' but no matching script tag was found. \")\n",
       "    return false;\n",
       "  }\n",
       "\n",
       "  var js_urls = [\"https://cdn.pydata.org/bokeh/release/bokeh-0.12.10.min.js\", \"https://cdn.pydata.org/bokeh/release/bokeh-widgets-0.12.10.min.js\", \"https://cdn.pydata.org/bokeh/release/bokeh-tables-0.12.10.min.js\", \"https://cdn.pydata.org/bokeh/release/bokeh-gl-0.12.10.min.js\"];\n",
       "\n",
       "  var inline_js = [\n",
       "    function(Bokeh) {\n",
       "      Bokeh.set_log_level(\"info\");\n",
       "    },\n",
       "    \n",
       "    function(Bokeh) {\n",
       "      \n",
       "    },\n",
       "    function(Bokeh) {\n",
       "      console.log(\"Bokeh: injecting CSS: https://cdn.pydata.org/bokeh/release/bokeh-0.12.10.min.css\");\n",
       "      Bokeh.embed.inject_css(\"https://cdn.pydata.org/bokeh/release/bokeh-0.12.10.min.css\");\n",
       "      console.log(\"Bokeh: injecting CSS: https://cdn.pydata.org/bokeh/release/bokeh-widgets-0.12.10.min.css\");\n",
       "      Bokeh.embed.inject_css(\"https://cdn.pydata.org/bokeh/release/bokeh-widgets-0.12.10.min.css\");\n",
       "      console.log(\"Bokeh: injecting CSS: https://cdn.pydata.org/bokeh/release/bokeh-tables-0.12.10.min.css\");\n",
       "      Bokeh.embed.inject_css(\"https://cdn.pydata.org/bokeh/release/bokeh-tables-0.12.10.min.css\");\n",
       "    }\n",
       "  ];\n",
       "\n",
       "  function run_inline_js() {\n",
       "    \n",
       "    if ((root.Bokeh !== undefined) || (force === true)) {\n",
       "      for (var i = 0; i < inline_js.length; i++) {\n",
       "        inline_js[i].call(root, root.Bokeh);\n",
       "      }if (force === true) {\n",
       "        display_loaded();\n",
       "      }} else if (Date.now() < root._bokeh_timeout) {\n",
       "      setTimeout(run_inline_js, 100);\n",
       "    } else if (!root._bokeh_failed_load) {\n",
       "      console.log(\"Bokeh: BokehJS failed to load within specified timeout.\");\n",
       "      root._bokeh_failed_load = true;\n",
       "    } else if (force !== true) {\n",
       "      var cell = $(document.getElementById(\"9e59d1b8-c3c9-494a-b164-6449a22475e4\")).parents('.cell').data().cell;\n",
       "      cell.output_area.append_execute_result(NB_LOAD_WARNING)\n",
       "    }\n",
       "\n",
       "  }\n",
       "\n",
       "  if (root._bokeh_is_loading === 0) {\n",
       "    console.log(\"Bokeh: BokehJS loaded, going straight to plotting\");\n",
       "    run_inline_js();\n",
       "  } else {\n",
       "    load_libs(js_urls, function() {\n",
       "      console.log(\"Bokeh: BokehJS plotting callback run at\", now());\n",
       "      run_inline_js();\n",
       "    });\n",
       "  }\n",
       "}(window));"
      ],
      "application/vnd.bokehjs_load.v0+json": "\n(function(root) {\n  function now() {\n    return new Date();\n  }\n\n  var force = true;\n\n  if (typeof (root._bokeh_onload_callbacks) === \"undefined\" || force === true) {\n    root._bokeh_onload_callbacks = [];\n    root._bokeh_is_loading = undefined;\n  }\n\n  \n\n  \n  if (typeof (root._bokeh_timeout) === \"undefined\" || force === true) {\n    root._bokeh_timeout = Date.now() + 5000;\n    root._bokeh_failed_load = false;\n  }\n\n  var NB_LOAD_WARNING = {'data': {'text/html':\n     \"<div style='background-color: #fdd'>\\n\"+\n     \"<p>\\n\"+\n     \"BokehJS does not appear to have successfully loaded. If loading BokehJS from CDN, this \\n\"+\n     \"may be due to a slow or bad network connection. Possible fixes:\\n\"+\n     \"</p>\\n\"+\n     \"<ul>\\n\"+\n     \"<li>re-rerun `output_notebook()` to attempt to load from CDN again, or</li>\\n\"+\n     \"<li>use INLINE resources instead, as so:</li>\\n\"+\n     \"</ul>\\n\"+\n     \"<code>\\n\"+\n     \"from bokeh.resources import INLINE\\n\"+\n     \"output_notebook(resources=INLINE)\\n\"+\n     \"</code>\\n\"+\n     \"</div>\"}};\n\n  function display_loaded() {\n    var el = document.getElementById(\"9e59d1b8-c3c9-494a-b164-6449a22475e4\");\n    if (el != null) {\n      el.textContent = \"BokehJS is loading...\";\n    }\n    if (root.Bokeh !== undefined) {\n      if (el != null) {\n        el.textContent = \"BokehJS \" + root.Bokeh.version + \" successfully loaded.\";\n      }\n    } else if (Date.now() < root._bokeh_timeout) {\n      setTimeout(display_loaded, 100)\n    }\n  }\n\n\n  function run_callbacks() {\n    try {\n      root._bokeh_onload_callbacks.forEach(function(callback) { callback() });\n    }\n    finally {\n      delete root._bokeh_onload_callbacks\n    }\n    console.info(\"Bokeh: all callbacks have finished\");\n  }\n\n  function load_libs(js_urls, callback) {\n    root._bokeh_onload_callbacks.push(callback);\n    if (root._bokeh_is_loading > 0) {\n      console.log(\"Bokeh: BokehJS is being loaded, scheduling callback at\", now());\n      return null;\n    }\n    if (js_urls == null || js_urls.length === 0) {\n      run_callbacks();\n      return null;\n    }\n    console.log(\"Bokeh: BokehJS not loaded, scheduling load and callback at\", now());\n    root._bokeh_is_loading = js_urls.length;\n    for (var i = 0; i < js_urls.length; i++) {\n      var url = js_urls[i];\n      var s = document.createElement('script');\n      s.src = url;\n      s.async = false;\n      s.onreadystatechange = s.onload = function() {\n        root._bokeh_is_loading--;\n        if (root._bokeh_is_loading === 0) {\n          console.log(\"Bokeh: all BokehJS libraries loaded\");\n          run_callbacks()\n        }\n      };\n      s.onerror = function() {\n        console.warn(\"failed to load library \" + url);\n      };\n      console.log(\"Bokeh: injecting script tag for BokehJS library: \", url);\n      document.getElementsByTagName(\"head\")[0].appendChild(s);\n    }\n  };var element = document.getElementById(\"9e59d1b8-c3c9-494a-b164-6449a22475e4\");\n  if (element == null) {\n    console.log(\"Bokeh: ERROR: autoload.js configured with elementid '9e59d1b8-c3c9-494a-b164-6449a22475e4' but no matching script tag was found. \")\n    return false;\n  }\n\n  var js_urls = [\"https://cdn.pydata.org/bokeh/release/bokeh-0.12.10.min.js\", \"https://cdn.pydata.org/bokeh/release/bokeh-widgets-0.12.10.min.js\", \"https://cdn.pydata.org/bokeh/release/bokeh-tables-0.12.10.min.js\", \"https://cdn.pydata.org/bokeh/release/bokeh-gl-0.12.10.min.js\"];\n\n  var inline_js = [\n    function(Bokeh) {\n      Bokeh.set_log_level(\"info\");\n    },\n    \n    function(Bokeh) {\n      \n    },\n    function(Bokeh) {\n      console.log(\"Bokeh: injecting CSS: https://cdn.pydata.org/bokeh/release/bokeh-0.12.10.min.css\");\n      Bokeh.embed.inject_css(\"https://cdn.pydata.org/bokeh/release/bokeh-0.12.10.min.css\");\n      console.log(\"Bokeh: injecting CSS: https://cdn.pydata.org/bokeh/release/bokeh-widgets-0.12.10.min.css\");\n      Bokeh.embed.inject_css(\"https://cdn.pydata.org/bokeh/release/bokeh-widgets-0.12.10.min.css\");\n      console.log(\"Bokeh: injecting CSS: https://cdn.pydata.org/bokeh/release/bokeh-tables-0.12.10.min.css\");\n      Bokeh.embed.inject_css(\"https://cdn.pydata.org/bokeh/release/bokeh-tables-0.12.10.min.css\");\n    }\n  ];\n\n  function run_inline_js() {\n    \n    if ((root.Bokeh !== undefined) || (force === true)) {\n      for (var i = 0; i < inline_js.length; i++) {\n        inline_js[i].call(root, root.Bokeh);\n      }if (force === true) {\n        display_loaded();\n      }} else if (Date.now() < root._bokeh_timeout) {\n      setTimeout(run_inline_js, 100);\n    } else if (!root._bokeh_failed_load) {\n      console.log(\"Bokeh: BokehJS failed to load within specified timeout.\");\n      root._bokeh_failed_load = true;\n    } else if (force !== true) {\n      var cell = $(document.getElementById(\"9e59d1b8-c3c9-494a-b164-6449a22475e4\")).parents('.cell').data().cell;\n      cell.output_area.append_execute_result(NB_LOAD_WARNING)\n    }\n\n  }\n\n  if (root._bokeh_is_loading === 0) {\n    console.log(\"Bokeh: BokehJS loaded, going straight to plotting\");\n    run_inline_js();\n  } else {\n    load_libs(js_urls, function() {\n      console.log(\"Bokeh: BokehJS plotting callback run at\", now());\n      run_inline_js();\n    });\n  }\n}(window));"
     },
     "metadata": {},
     "output_type": "display_data"
    }
   ],
   "source": [
    "# initialize BokehJS\n",
    "output_notebook()"
   ]
  },
  {
   "cell_type": "code",
   "execution_count": 44,
   "metadata": {},
   "outputs": [
    {
     "data": {
      "text/html": [
       "\n",
       "<div class=\"bk-root\">\n",
       "    <div class=\"bk-plotdiv\" id=\"82c82265-c676-4dfe-b8c0-85107abc5fb9\"></div>\n",
       "</div>"
      ]
     },
     "metadata": {},
     "output_type": "display_data"
    },
    {
     "data": {
      "application/javascript": [
       "(function(root) {\n",
       "  function embed_document(root) {\n",
       "    var docs_json = {\"67778be2-cbf8-44f8-baa6-b397efc0bdb5\":{\"roots\":{\"references\":[{\"attributes\":{\"fill_alpha\":{\"value\":0.8},\"fill_color\":{\"value\":\"#1f77b4\"},\"size\":{\"units\":\"screen\",\"value\":12},\"x\":{\"field\":\"x\"},\"y\":{\"field\":\"y\"}},\"id\":\"02593648-953c-41df-881d-285a1b2d6194\",\"type\":\"Circle\"},{\"attributes\":{},\"id\":\"d07394b0-cca6-4b5d-bcdb-461dec4b7b4e\",\"type\":\"BasicTicker\"},{\"attributes\":{\"callback\":null,\"column_names\":[\"x\",\"y\",\"document\",\"index\"],\"data\":{\"document\":{\"__ndarray__\":\"AAAAAAEAAAACAAAAAwAAAAQAAAAFAAAABgAAAAcAAAAIAAAACQAAAAoAAAALAAAADAAAAA0AAAAOAAAADwAAABAAAAARAAAAEgAAABMAAAAUAAAAFQAAABYAAAAXAAAAGAAAABkAAAAaAAAAGwAAABwAAAAdAAAAHgAAAB8AAAAgAAAAIQAAACIAAAAjAAAAJAAAACUAAAAmAAAAJwAAACgAAAApAAAAKgAAACsAAAAsAAAALQAAAC4AAAAvAAAAMAAAADEAAAAyAAAAMwAAADQAAAA1AAAANgAAADcAAAA4AAAAOQAAADoAAAA7AAAAPAAAAD0AAAA+AAAAPwAAAEAAAABBAAAAQgAAAEMAAABEAAAARQAAAEYAAABHAAAASAAAAEkAAABKAAAASwAAAEwAAABNAAAATgAAAE8AAABQAAAAUQAAAFIAAABTAAAAVAAAAFUAAABWAAAAVwAAAFgAAABZAAAAWgAAAFsAAABcAAAAXQAAAF4AAABfAAAAYAAAAGEAAABiAAAAYwAAAA==\",\"dtype\":\"int32\",\"shape\":[100]},\"index\":[0,1,2,3,4,5,6,7,8,9,10,11,12,13,14,15,16,17,18,19,20,21,22,23,24,25,26,27,28,29,30,31,32,33,34,35,36,37,38,39,40,41,42,43,44,45,46,47,48,49,50,51,52,53,54,55,56,57,58,59,60,61,62,63,64,65,66,67,68,69,70,71,72,73,74,75,76,77,78,79,80,81,82,83,84,85,86,87,88,89,90,91,92,93,94,95,96,97,98,99],\"x\":{\"__ndarray__\":\"VNKwCVupFkCVcmQTTogRQCsVub2HHgZAB3o6TDVW8D9qSrQ0Ol0gQAIRSG5TVBlAGywnixEII0DKaRwBB8gtQISFQf67ZgFAYp/c49kxLEANk9jIIQMKQOYFJEkfgSpAFeoPgxg7DEDvcHUFkXsFQF6vlA6ICRJA8boJOnpKJkB4BrYXOuADQK/aXDQNDgZAj73yMGxgDEC+zCC59njyPzLUDy3N6whAljhoLCDBC0DHoKfhoPMtQGJQz9pJNy9AbGGMxjY9CEACbvJ+wbE4QKSJxQqMXRxAsFHq2aMdI0DMdFnMiHw1QHaXqfcV/yFArFlf0TmhIUA/6cGxkhUzQMj8CPl12wJAzC+chijSNEBELS31ZXAMQErfeuqrQP8/uLVKVCp+OEC6QkfRldsKQDNWNz6fNwpAJtXNn4vAJ0DA/r9FrhQgQKpq/uaIHAtAzccVu2JRMkBgRp0pAD0iQFvhXjLMcSFAdfhdAvLJEUCoUsTwsnkrQHa0QXnXDQtAg0kKa2g0MkCuIw+ZupUzQDMaaLM5cPo/3OVgu9Q9/j+iXDAHk30JQBYzD27G7SJA8uvPQe0KBUBPVgeCvJnzPzul+uldmwZA3U+wU+2zD0CB8bcVX+INQGb3oFcqGug/qwUNYNaFIEAxht35OrW7P8Qj5BQTqgFALdUDBhh19T/X+uZxqtAXQA/cZrtavhlAmIesS5J58j+BnU7yc+EWQLdi5WJSTPc/ccX0kxl1AkACCu9v0tf9P1ZBpFEHkRBAuw1JVfzT7T9SwbE5qZDzP4GV3V3ZNhtAp2plEZQlKEA/E0NzLDz7Pzodso2lhQBA26kM7u1gDEByEizswtUGQBAgNPPDVBBA4nBvV5+y9z9EHFdPLOgVQGFZzr3iIPg/vFy51r0oDEDaJWp0nUAVQEiPBC0zgg1AeDIT73dnIUDm2dg0V4IkQNagFpbA2R1AyyeqC86z+j+NOFmEpFodQOhiHJOrihVApv08JvdZDUBDFuAdJcgmQLr8rf4ggjhAQaTl1GmuEUD7Gxp++FcGQHfJCGCrZAtAET/7q2kDEkA=\",\"dtype\":\"float64\",\"shape\":[100]},\"y\":{\"__ndarray__\":\"UQU9hKZ8AcDcBdq4ERIFwHy2IPXvEdG/gJZW00vq179n79VGZZEIwB85UXE32AfATvIFA8oLEcBVe2kAdfMcwFIWwbYI3Pa/PHmJ63+fGsBUZSBLlv/zvwyRJEzBExnAQzTvFjh1AMCERekt5/nyvyU15KEPGPu/DjWNAXEhF8C3vW2PsCTqv86RckWczve/vR3shLLp/L+pRrlR3oDTv8HkORpZDfW/v+0heTmW8b84mYEbyD8XwL63Cnpz8RbAku7oN1on+L9FLioMY2USQJac1RwAtQjAS5TgR5TdB8D9CRlCZWkaQB7dB9lHbMI/Nfzj+8xCAMCXhCofWUWWv18uX7jnuvO/Yv3pMIqROEB5Ac8zsbf2v/CnAqkzENi/cWAUduOBNUCXyfA77Xn2v48TSqHKq9E/+UXWkjTtFUAIHKc3ANECQN792IJYmv2/mvW6IhygIUDRoAHcLXALwNIg5uotPhBAzu9BOiyv/b8LrCZHW4P6P/o3//eVUOg/U/435AxYFsDBaKSsv00lQJWAqK/edOG/E2RiIvss9L9ccdzxtif6v/Dixs/4QhPAn7MVXqLS9785ravQcm+/vyuds13ACfS/H9jytxpgAcApDfyCCF/1v+rlzOOZcbe/p1n1ahMGEcB5/Jl8QW+5vyFoS5Q8keO/C7YinFte4L/vNkCVCv34vxcOIpRhwAjAJlXwrP1b1r/sucyQewb6vzbqnNGWneu/zDuOTI2X078Hvirdy6D0v9ARF3WfZfu/+X4bprt31L+7p3aDRfvlvyHIpGoZ9AXAA7GZwUn1I8As32ihSxbsv4Aslo5CP+2/B8tgbR1x/b/u1UUKZf73vxDIk27q6fu/VbQGonbt479re6oG5cIKwHb6acSeiey/UUgixYfM+L8nLuO0Qc0IwMdGDVyaWf+/NehMfUJHGMA3Ni9MGIIcwDjg1gQTKRLAZmaugqbK5b+e4hVAjGIMwKrfZSv5CwHAkEFOL05P+7+qpvXol1wZwO9qC7CfVyHAt9AvcFlYCcAbARnpm8T9v4i22Md2dva/RRBloraV+r8=\",\"dtype\":\"float64\",\"shape\":[100]}}},\"id\":\"e0cff860-62a5-432a-a378-0bd7d51f7429\",\"type\":\"ColumnDataSource\"},{\"attributes\":{},\"id\":\"590d7639-f9b0-4254-ba49-ed1334bbf7aa\",\"type\":\"LinearScale\"},{\"attributes\":{\"formatter\":{\"id\":\"96a225eb-d054-4e1f-8b30-55c0d405ea15\",\"type\":\"BasicTickFormatter\"},\"plot\":{\"id\":\"17cc4979-81a8-46f3-aab1-d6b9f2a3f86a\",\"subtype\":\"Figure\",\"type\":\"Plot\"},\"ticker\":{\"id\":\"d07394b0-cca6-4b5d-bcdb-461dec4b7b4e\",\"type\":\"BasicTicker\"}},\"id\":\"e85147ba-e9a8-456a-b8af-e53ac3fa51c5\",\"type\":\"LinearAxis\"},{\"attributes\":{\"dimension\":1,\"plot\":{\"id\":\"17cc4979-81a8-46f3-aab1-d6b9f2a3f86a\",\"subtype\":\"Figure\",\"type\":\"Plot\"},\"ticker\":{\"id\":\"d07394b0-cca6-4b5d-bcdb-461dec4b7b4e\",\"type\":\"BasicTicker\"}},\"id\":\"e9666138-8858-4795-9b0f-0beb83847a48\",\"type\":\"Grid\"},{\"attributes\":{},\"id\":\"601b6509-9174-4f6f-9cc3-cd32ad7d86f0\",\"type\":\"HelpTool\"},{\"attributes\":{\"formatter\":{\"id\":\"3ec3328c-e5e1-4d5d-8f10-754ec400f3a9\",\"type\":\"BasicTickFormatter\"},\"plot\":{\"id\":\"17cc4979-81a8-46f3-aab1-d6b9f2a3f86a\",\"subtype\":\"Figure\",\"type\":\"Plot\"},\"ticker\":{\"id\":\"dcad8f7f-3d76-45af-8e3d-9fa74a8ec8e6\",\"type\":\"BasicTicker\"}},\"id\":\"2dd1f1a7-0a2f-4c22-89cc-871bc566686b\",\"type\":\"LinearAxis\"},{\"attributes\":{\"below\":[{\"id\":\"2dd1f1a7-0a2f-4c22-89cc-871bc566686b\",\"type\":\"LinearAxis\"}],\"left\":[{\"id\":\"e85147ba-e9a8-456a-b8af-e53ac3fa51c5\",\"type\":\"LinearAxis\"}],\"renderers\":[{\"id\":\"2dd1f1a7-0a2f-4c22-89cc-871bc566686b\",\"type\":\"LinearAxis\"},{\"id\":\"7bd02cbe-5e32-4036-818e-23d024a4f515\",\"type\":\"Grid\"},{\"id\":\"e85147ba-e9a8-456a-b8af-e53ac3fa51c5\",\"type\":\"LinearAxis\"},{\"id\":\"e9666138-8858-4795-9b0f-0beb83847a48\",\"type\":\"Grid\"},{\"id\":\"e0f9e3fa-5945-4285-9450-ab7accfc3d5a\",\"type\":\"BoxAnnotation\"},{\"id\":\"d1a0ad0e-047a-4a0b-8e90-2c4170b10ca6\",\"type\":\"GlyphRenderer\"},{\"id\":\"2d1129d9-62f0-40c4-ba53-8efdfa24a4ec\",\"type\":\"LabelSet\"}],\"title\":{\"id\":\"de80939f-d616-41a5-9e6c-cc5a534a3fd3\",\"type\":\"Title\"},\"toolbar\":{\"id\":\"5aad70ba-7632-4ee8-9797-69dca4cf583d\",\"type\":\"Toolbar\"},\"x_range\":{\"id\":\"c91d6603-ee9c-477d-9196-a9bcaa1bcdd3\",\"type\":\"DataRange1d\"},\"x_scale\":{\"id\":\"cdc5f4ed-3e72-414e-8b5e-50147b05ee12\",\"type\":\"LinearScale\"},\"y_range\":{\"id\":\"cd1cdaa0-52f8-4cdf-a5ca-e83fb724cc0b\",\"type\":\"DataRange1d\"},\"y_scale\":{\"id\":\"590d7639-f9b0-4254-ba49-ed1334bbf7aa\",\"type\":\"LinearScale\"}},\"id\":\"17cc4979-81a8-46f3-aab1-d6b9f2a3f86a\",\"subtype\":\"Figure\",\"type\":\"Plot\"},{\"attributes\":{\"data_source\":{\"id\":\"e0cff860-62a5-432a-a378-0bd7d51f7429\",\"type\":\"ColumnDataSource\"},\"glyph\":{\"id\":\"02593648-953c-41df-881d-285a1b2d6194\",\"type\":\"Circle\"},\"hover_glyph\":null,\"muted_glyph\":null,\"nonselection_glyph\":{\"id\":\"8f9aa835-7af4-4633-a754-57a465e11b18\",\"type\":\"Circle\"},\"selection_glyph\":null,\"view\":{\"id\":\"e8bd161a-eb62-4439-ade3-f9cb019c072d\",\"type\":\"CDSView\"}},\"id\":\"d1a0ad0e-047a-4a0b-8e90-2c4170b10ca6\",\"type\":\"GlyphRenderer\"},{\"attributes\":{\"plot\":{\"id\":\"17cc4979-81a8-46f3-aab1-d6b9f2a3f86a\",\"subtype\":\"Figure\",\"type\":\"Plot\"},\"ticker\":{\"id\":\"dcad8f7f-3d76-45af-8e3d-9fa74a8ec8e6\",\"type\":\"BasicTicker\"}},\"id\":\"7bd02cbe-5e32-4036-818e-23d024a4f515\",\"type\":\"Grid\"},{\"attributes\":{\"source\":{\"id\":\"e0cff860-62a5-432a-a378-0bd7d51f7429\",\"type\":\"ColumnDataSource\"}},\"id\":\"e8bd161a-eb62-4439-ade3-f9cb019c072d\",\"type\":\"CDSView\"},{\"attributes\":{\"plot\":{\"id\":\"17cc4979-81a8-46f3-aab1-d6b9f2a3f86a\",\"subtype\":\"Figure\",\"type\":\"Plot\"},\"source\":{\"id\":\"e0cff860-62a5-432a-a378-0bd7d51f7429\",\"type\":\"ColumnDataSource\"},\"text\":{\"field\":\"document\"},\"text_align\":\"center\",\"text_color\":{\"value\":\"#555555\"},\"text_font_size\":{\"value\":\"8pt\"},\"x\":{\"field\":\"x\"},\"y\":{\"field\":\"y\"},\"y_offset\":{\"value\":8}},\"id\":\"2d1129d9-62f0-40c4-ba53-8efdfa24a4ec\",\"type\":\"LabelSet\"},{\"attributes\":{},\"id\":\"6a437ec3-e0ce-4c29-bbfb-6c8b20f42e88\",\"type\":\"ResetTool\"},{\"attributes\":{\"fill_alpha\":{\"value\":0.1},\"fill_color\":{\"value\":\"#1f77b4\"},\"line_alpha\":{\"value\":0.1},\"line_color\":{\"value\":\"#1f77b4\"},\"size\":{\"units\":\"screen\",\"value\":12},\"x\":{\"field\":\"x\"},\"y\":{\"field\":\"y\"}},\"id\":\"8f9aa835-7af4-4633-a754-57a465e11b18\",\"type\":\"Circle\"},{\"attributes\":{},\"id\":\"3ec3328c-e5e1-4d5d-8f10-754ec400f3a9\",\"type\":\"BasicTickFormatter\"},{\"attributes\":{},\"id\":\"dcad8f7f-3d76-45af-8e3d-9fa74a8ec8e6\",\"type\":\"BasicTicker\"},{\"attributes\":{},\"id\":\"cdc5f4ed-3e72-414e-8b5e-50147b05ee12\",\"type\":\"LinearScale\"},{\"attributes\":{\"callback\":null},\"id\":\"c91d6603-ee9c-477d-9196-a9bcaa1bcdd3\",\"type\":\"DataRange1d\"},{\"attributes\":{\"active_drag\":\"auto\",\"active_inspect\":\"auto\",\"active_scroll\":\"auto\",\"active_tap\":\"auto\",\"tools\":[{\"id\":\"67403244-6668-4c71-9a49-154477df8eba\",\"type\":\"PanTool\"},{\"id\":\"1d20cbb0-8b45-4e5d-b1f3-bb0674a91416\",\"type\":\"WheelZoomTool\"},{\"id\":\"472c3ebe-b5e8-4683-b744-fc668d8d693f\",\"type\":\"BoxZoomTool\"},{\"id\":\"c872ed3e-ab84-45e8-a7e9-6545bf2f94de\",\"type\":\"SaveTool\"},{\"id\":\"6a437ec3-e0ce-4c29-bbfb-6c8b20f42e88\",\"type\":\"ResetTool\"},{\"id\":\"601b6509-9174-4f6f-9cc3-cd32ad7d86f0\",\"type\":\"HelpTool\"}]},\"id\":\"5aad70ba-7632-4ee8-9797-69dca4cf583d\",\"type\":\"Toolbar\"},{\"attributes\":{},\"id\":\"1d20cbb0-8b45-4e5d-b1f3-bb0674a91416\",\"type\":\"WheelZoomTool\"},{\"attributes\":{\"callback\":null},\"id\":\"cd1cdaa0-52f8-4cdf-a5ca-e83fb724cc0b\",\"type\":\"DataRange1d\"},{\"attributes\":{},\"id\":\"c872ed3e-ab84-45e8-a7e9-6545bf2f94de\",\"type\":\"SaveTool\"},{\"attributes\":{\"plot\":null,\"text\":\"\"},\"id\":\"de80939f-d616-41a5-9e6c-cc5a534a3fd3\",\"type\":\"Title\"},{\"attributes\":{\"bottom_units\":\"screen\",\"fill_alpha\":{\"value\":0.5},\"fill_color\":{\"value\":\"lightgrey\"},\"left_units\":\"screen\",\"level\":\"overlay\",\"line_alpha\":{\"value\":1.0},\"line_color\":{\"value\":\"black\"},\"line_dash\":[4,4],\"line_width\":{\"value\":2},\"plot\":null,\"render_mode\":\"css\",\"right_units\":\"screen\",\"top_units\":\"screen\"},\"id\":\"e0f9e3fa-5945-4285-9450-ab7accfc3d5a\",\"type\":\"BoxAnnotation\"},{\"attributes\":{},\"id\":\"96a225eb-d054-4e1f-8b30-55c0d405ea15\",\"type\":\"BasicTickFormatter\"},{\"attributes\":{},\"id\":\"67403244-6668-4c71-9a49-154477df8eba\",\"type\":\"PanTool\"},{\"attributes\":{\"overlay\":{\"id\":\"e0f9e3fa-5945-4285-9450-ab7accfc3d5a\",\"type\":\"BoxAnnotation\"}},\"id\":\"472c3ebe-b5e8-4683-b744-fc668d8d693f\",\"type\":\"BoxZoomTool\"}],\"root_ids\":[\"17cc4979-81a8-46f3-aab1-d6b9f2a3f86a\"]},\"title\":\"Bokeh Application\",\"version\":\"0.12.10\"}};\n",
       "    var render_items = [{\"docid\":\"67778be2-cbf8-44f8-baa6-b397efc0bdb5\",\"elementid\":\"82c82265-c676-4dfe-b8c0-85107abc5fb9\",\"modelid\":\"17cc4979-81a8-46f3-aab1-d6b9f2a3f86a\",\"notebook_comms_target\":\"00928cce-1c69-4030-979f-3b7ea29e001e\"}];\n",
       "\n",
       "    root.Bokeh.embed.embed_items(docs_json, render_items);\n",
       "  }\n",
       "\n",
       "  if (root.Bokeh !== undefined) {\n",
       "    embed_document(root);\n",
       "  } else {\n",
       "    var attempts = 0;\n",
       "    var timer = setInterval(function(root) {\n",
       "      if (root.Bokeh !== undefined) {\n",
       "        embed_document(root);\n",
       "        clearInterval(timer);\n",
       "      }\n",
       "      attempts++;\n",
       "      if (attempts > 100) {\n",
       "        console.log(\"Bokeh: ERROR: Unable to embed document because BokehJS library is missing\")\n",
       "        clearInterval(timer);\n",
       "      }\n",
       "    }, 10, root)\n",
       "  }\n",
       "})(window);"
      ],
      "application/vnd.bokehjs_exec.v0+json": ""
     },
     "metadata": {
      "application/vnd.bokehjs_exec.v0+json": {
       "id": "17cc4979-81a8-46f3-aab1-d6b9f2a3f86a"
      }
     },
     "output_type": "display_data"
    },
    {
     "data": {
      "text/html": [
       "<p><code>&lt;Bokeh Notebook handle for <strong>In[44]</strong>&gt;</code></p>"
      ],
      "text/plain": [
       "<bokeh.io.notebook.CommsHandle at 0x259276f26d8>"
      ]
     },
     "execution_count": 44,
     "metadata": {},
     "output_type": "execute_result"
    }
   ],
   "source": [
    "svd = TruncatedSVD(n_components=2)\n",
    "documents_2d = svd.fit_transform(reviews_vectorized)\n",
    " \n",
    "df = pd.DataFrame(columns=['x', 'y', 'document'])\n",
    "df['x'], df['y'], df['document'] = documents_2d[:,0], documents_2d[:,1], range(len(reviews))\n",
    " \n",
    "source = ColumnDataSource(ColumnDataSource.from_df(df))\n",
    "labels = LabelSet(x=\"x\", y=\"y\", text=\"document\", y_offset=8,\n",
    "                  text_font_size=\"8pt\", text_color=\"#555555\",\n",
    "                  source=source, text_align='center')\n",
    " \n",
    "plot = figure(plot_width=600, plot_height=600)\n",
    "plot.circle(\"x\", \"y\", size=12, source=source, line_color=\"black\", fill_alpha=0.8)\n",
    "plot.add_layout(labels)\n",
    "show(plot, notebook_handle=True)"
   ]
  },
  {
   "cell_type": "markdown",
   "metadata": {},
   "source": [
    "> The above plot allows you to quickly see which documents are more similar to one another. Those that are far away from the pack tend to be unique. These unique reviews - 33, 36, 25, 95, etc. - tend to be much longer and use a wider vocabulary than the other reviews. Below, I display review 33 as an example of this."
   ]
  },
  {
   "cell_type": "code",
   "execution_count": 19,
   "metadata": {},
   "outputs": [
    {
     "name": "stdout",
     "output_type": "stream",
     "text": [
      "(Spoilers) At one time, sisters Elsa and Anna knew of and loved to utilize Elsa's (unexplained, apparently genetic? even though no one else in her family has them) ice powers. Then an accident and a warning by the (ostensibly) wise troll – that fear will make Elsa's powers dangerous – prompts her parents to fearfully seclude her, shutting her away from everyone and isolating her from her sister. The trolls erase Anna's memory of Elsa's powers. (No one apparently considers the implications of seclusion and terror regarding the power). The girls grow up. After their parents die at sea, Elsa becomes queen. For her coronation, the kingdom is opened. Prince Hans and the Duke of Weselton are among the visiting dignitaries. Anna promptly falls in love with the prince, and agrees to marry him. When the queen refuses to condone her sister's impetuous match, they argue and Elsa accidentally reveals her powers, prompting the Duke to demand that she be arrested. Elsa flees, accidentally shrouding the world in \"eternal winter\" and leaving in power Anna, who promptly follows after her – appointing Prince Hans to rule in her stead (!!!). Apparently in this world, chains of command, diplomatic decorum, and other such trifles cease to exist. Anna loses her horse, and then teams up with a poor boy named Kristoff and his reindeer Sven. They all end up working with Olaf, a quirky snow creation of Elsa's, to find her sister. A romance blossoms between Kristoff and the fickle Anna. Meanwhile, Elsa has embraced her \"bad girl\" image (complete with sultry walk/slit up the thigh), building herself a lovely snow palace. The girls talk. Things don't go well, and Anna ends up with \"ice in her heart\" (which the trolls, long ago, had warned would kill her but for an act of true love). In the meantime, Anna's horse had returned to the city, and Hans and a group of soldiers go looking for her. They arrive just after Anna, Kristoff and co are expelled. Weselton's men attack her, a fight breaks out, etc. Elsa is captured. Kristoff, meanwhile, reveals that he had been adopted by trolls – the same ones, coincidentally, that had offered their advice to her family years before. The trolls explain that only an act of true love can save Anna. Kristoff and Anna race back to Hans, for a Kiss of True Love (TM). Kristoff delivers her and leaves. Hans reveals – gasp – that he has simply been after the throne all this time, and locks her in a room to freeze to death. He then claims to the ruling council that Anna is dead, but that they had been married before she expired (witnesses, marriage certificates and funerals apparently don't exist in this world either)...so that makes him king. They welcome him with open arms. Thankfully, there are no other heirs, distant relatives, or people who remember that they still have a queen alive (!!) around. He (with no explanation) believes he can get Elsa to turn back winter. Meanwhile, Kristoff and Sven are coming back because, true love. Elsa, in her grief at learning of Anna's supposed death, accidentally unleashes a tornado-strength blizzard. Kristoff and Anna are going to kiss, but Anna sees Prince Hans about to murder Elsa. She intervenes, and almost freezes; but, that being an act of true love, she is saved. At this point, Elsa figures out how to recall winter (\"Love!\" - that's it, no explanation). Pros: - Pretty. Frozen is very pretty, very glitzy, full of beautiful landscapes, amazing snow shots and glamorous gowns. Different. It has a different feel, architecturally and culturally, from many of the preceding princess films, which is nice. Cons: Pretty much everything else. The story was inconsistent. If you read about the series of \"development hells\" that preceded its release, it makes sense. They had no clue where they were going with this, and it very much felt like it at times: these were different ideas, different takes on the same story, all jumbled together. Character immaturity/stupidity. If you, like, can see this being a classic, then, like, whatever, because classic Disney princes andPlot idiocy. This ties into the first point. If fear is the enemy, why do you seclude/terrorize the princess with insecurities? How/why does \"love\" recall winter? Didn't Elsa love her family all along? Wasn't there \"love\" present all this time? There was zero explanation for how this worked. Just \"love\". Not to mention the flouting of anything like court customs, diplomacy, etc.: random foreign dignitaries are giving orders to arrest and kill the queen, foreign princes are left in charge of the kingdom, etc. Or the cringe worthiness of the trolls, and their irrelevance to the plot; and the fact that Hans never mentions having witnessed the royal family's first encounter with the trolls/how Anna's memory was wiped (Elsa also ignores this). The list goes on. Predictability. The scene where Anna and Hans meet was terribly predictable, and just...terrible. The scene where Anna and Kristoff meet was equally predictable. The betrayal was predictable. The conclusion was predictable despite being completely unexplained.Music. The music was of an exceptionally poor caliber in this film. The singers were overpowered by the instruments, the lyrics were indistinguishable, the songs out of place and silly, and often-times just cringe inducing (it's pretty bad when you're cannibalizing themes from your own previous films, like the troll rip-off of Hunchback's \"A Guy Like You\", and you completely, utterly blow it...)Little kids will enjoy the prettiness of it all. Anyone who thinks about the plot, though, is going to end up with a headache. Certainly anyone who listens to the music. (And don't get me started on the rape-y Mickey/Minnie/Pete short that preceded the film. Yikes.)\n"
     ]
    }
   ],
   "source": [
    "print(reviews[33])"
   ]
  },
  {
   "cell_type": "code",
   "execution_count": 20,
   "metadata": {},
   "outputs": [
    {
     "data": {
      "text/html": [
       "\n",
       "<div class=\"bk-root\">\n",
       "    <div class=\"bk-plotdiv\" id=\"41aa391e-3330-4e90-a6d6-dd1e1f337c1e\"></div>\n",
       "</div>"
      ]
     },
     "metadata": {},
     "output_type": "display_data"
    },
    {
     "data": {
      "application/javascript": [
       "(function(root) {\n",
       "  function embed_document(root) {\n",
       "    var docs_json = {\"2a2392d2-8087-4b98-aa5b-af96a7c5e5e5\":{\"roots\":{\"references\":[{\"attributes\":{\"callback\":null,\"column_names\":[\"x\",\"y\",\"word\",\"index\"],\"data\":{\"index\":[0,1,2,3,4,5,6,7,8,9,10,11,12,13,14,15,16,17,18,19,20,21,22,23,24,25,26,27,28,29,30,31,32,33,34,35,36,37,38,39,40,41,42,43,44,45,46,47,48,49,50,51,52,53,54,55,56,57,58,59,60,61,62,63,64,65,66,67,68,69,70,71,72,73,74,75,76,77,78,79,80,81,82,83,84,85,86,87,88,89,90,91,92,93,94,95,96,97,98,99,100,101,102,103,104,105,106,107,108,109,110,111,112,113,114,115,116,117,118,119,120,121,122,123,124,125,126,127,128,129,130,131,132,133,134,135,136,137,138,139,140,141,142,143,144,145,146,147,148,149,150,151,152,153,154,155,156,157,158,159,160,161,162,163,164,165,166,167,168,169,170,171,172,173,174,175,176,177,178,179,180,181,182,183,184,185,186,187,188,189,190,191,192,193,194,195,196,197,198,199,200,201,202,203,204,205,206,207,208,209,210,211,212,213,214,215,216,217,218,219,220,221,222,223,224,225,226,227,228,229,230,231,232,233,234,235,236,237,238,239,240,241,242,243,244,245,246,247,248,249,250,251,252,253,254,255,256,257,258,259,260,261,262,263,264,265,266,267,268,269,270,271,272,273,274,275,276,277,278,279,280,281,282,283,284,285,286,287,288,289,290,291,292,293,294,295,296,297,298,299,300,301,302,303,304,305,306,307,308,309,310,311,312,313,314,315,316,317,318,319,320,321,322,323,324,325,326,327,328,329,330,331,332,333,334,335,336,337,338,339,340,341,342,343,344,345,346,347,348,349,350,351,352,353,354,355,356,357,358,359,360,361,362,363,364,365,366,367,368,369,370,371,372,373,374,375,376,377,378,379,380,381,382,383,384,385,386,387,388,389,390,391,392,393,394,395,396,397,398,399,400,401,402,403,404,405,406,407,408,409,410,411,412,413,414,415,416,417,418,419,420,421,422,423,424,425,426,427,428,429,430,431,432,433,434,435,436,437,438,439,440,441,442,443,444,445,446,447,448,449,450,451,452,453,454,455,456,457,458,459,460,461,462,463,464,465,466,467,468,469,470,471,472,473,474,475,476,477,478,479,480,481,482,483,484,485,486,487,488,489,490,491,492,493,494,495,496,497,498,499,500,501,502,503,504,505,506,507,508,509,510,511,512,513,514,515,516],\"word\":[\"able\",\"absolutely\",\"act\",\"acting\",\"action\",\"actual\",\"actually\",\"admit\",\"adult\",\"adults\",\"adventure\",\"age\",\"ages\",\"amazing\",\"animated\",\"animation\",\"anna\",\"annoying\",\"apparently\",\"appear\",\"art\",\"attention\",\"away\",\"bad\",\"basically\",\"beast\",\"beautiful\",\"beauty\",\"beginning\",\"believe\",\"bell\",\"best\",\"better\",\"big\",\"biggest\",\"bit\",\"boy\",\"brave\",\"brilliant\",\"bring\",\"brings\",\"brother\",\"building\",\"called\",\"came\",\"capture\",\"care\",\"case\",\"cast\",\"castle\",\"catchy\",\"character\",\"characters\",\"charming\",\"child\",\"childhood\",\"children\",\"cinema\",\"circle\",\"classic\",\"classics\",\"clearly\",\"clich\",\"coco\",\"colors\",\"come\",\"comedy\",\"comes\",\"coming\",\"compared\",\"complete\",\"completely\",\"conclusion\",\"conflict\",\"control\",\"couldn\",\"course\",\"created\",\"cub\",\"culture\",\"cute\",\"day\",\"days\",\"dead\",\"death\",\"deep\",\"definitely\",\"deserves\",\"despite\",\"development\",\"did\",\"didn\",\"dies\",\"different\",\"disappointed\",\"disney\",\"does\",\"doesn\",\"doing\",\"don\",\"doubt\",\"easily\",\"easy\",\"effort\",\"elements\",\"elsa\",\"emotion\",\"emotional\",\"end\",\"ending\",\"enjoy\",\"enjoyable\",\"enjoyed\",\"entertaining\",\"entire\",\"especially\",\"eventually\",\"evil\",\"example\",\"excellent\",\"expect\",\"experience\",\"explain\",\"extremely\",\"eyes\",\"face\",\"fact\",\"fairy\",\"fall\",\"falls\",\"family\",\"fan\",\"fantastic\",\"far\",\"father\",\"favorite\",\"feature\",\"feel\",\"feeling\",\"feels\",\"felt\",\"female\",\"film\",\"films\",\"fine\",\"fit\",\"forced\",\"forever\",\"forget\",\"formula\",\"friend\",\"friends\",\"frozen\",\"fully\",\"fun\",\"funny\",\"future\",\"gave\",\"gets\",\"getting\",\"girl\",\"girls\",\"giving\",\"goes\",\"going\",\"good\",\"gorgeous\",\"got\",\"great\",\"greatest\",\"grow\",\"guy\",\"guys\",\"half\",\"hands\",\"hans\",\"happened\",\"happy\",\"hard\",\"hasn\",\"hate\",\"haven\",\"having\",\"head\",\"heart\",\"help\",\"hero\",\"high\",\"highly\",\"history\",\"hope\",\"huge\",\"human\",\"humor\",\"ice\",\"idea\",\"important\",\"incredible\",\"inside\",\"instead\",\"interesting\",\"isn\",\"job\",\"jokes\",\"journey\",\"joy\",\"just\",\"kid\",\"kids\",\"kill\",\"kind\",\"king\",\"kingdom\",\"knew\",\"know\",\"kristen\",\"kristoff\",\"lack\",\"land\",\"landscapes\",\"large\",\"later\",\"lead\",\"learn\",\"learned\",\"leave\",\"left\",\"lessons\",\"let\",\"life\",\"likable\",\"like\",\"liked\",\"likely\",\"line\",\"lion\",\"list\",\"little\",\"live\",\"living\",\"long\",\"look\",\"looking\",\"looks\",\"lot\",\"love\",\"loved\",\"lovely\",\"loves\",\"lyrics\",\"magic\",\"magical\",\"main\",\"make\",\"makes\",\"making\",\"male\",\"man\",\"marry\",\"masterpiece\",\"match\",\"matter\",\"maui\",\"maybe\",\"mean\",\"means\",\"mediocre\",\"meet\",\"memorable\",\"men\",\"mention\",\"menzel\",\"mermaid\",\"message\",\"met\",\"mexican\",\"mexico\",\"miguel\",\"mind\",\"minutes\",\"moana\",\"modern\",\"moment\",\"moments\",\"morals\",\"mother\",\"movie\",\"movies\",\"moving\",\"mufasa\",\"mulan\",\"music\",\"musical\",\"nala\",\"named\",\"near\",\"nearly\",\"need\",\"needed\",\"new\",\"nice\",\"number\",\"obvious\",\"ocean\",\"okay\",\"olaf\",\"old\",\"ones\",\"opinion\",\"order\",\"original\",\"outstanding\",\"overall\",\"overrated\",\"parents\",\"particularly\",\"parts\",\"passion\",\"past\",\"people\",\"perfect\",\"perfectly\",\"person\",\"picture\",\"pixar\",\"place\",\"played\",\"plot\",\"plus\",\"point\",\"polynesian\",\"possible\",\"power\",\"powerful\",\"powers\",\"predictable\",\"pretty\",\"prince\",\"princess\",\"princesses\",\"probably\",\"problem\",\"problems\",\"production\",\"quality\",\"queen\",\"quick\",\"quite\",\"rating\",\"real\",\"really\",\"reason\",\"recent\",\"recommend\",\"relatable\",\"relationship\",\"released\",\"remember\",\"rest\",\"return\",\"reviews\",\"right\",\"role\",\"romance\",\"romantic\",\"rule\",\"run\",\"sad\",\"said\",\"save\",\"saw\",\"say\",\"saying\",\"says\",\"scar\",\"scene\",\"scenes\",\"score\",\"screen\",\"script\",\"sea\",\"second\",\"secret\",\"seeing\",\"seen\",\"sense\",\"seriously\",\"set\",\"short\",\"shouldn\",\"showing\",\"shows\",\"sidekicks\",\"silly\",\"simba\",\"simply\",\"sing\",\"singing\",\"single\",\"sister\",\"sisters\",\"slightly\",\"small\",\"snow\",\"somewhat\",\"son\",\"song\",\"songs\",\"sort\",\"soul\",\"sound\",\"sounds\",\"soundtrack\",\"special\",\"spend\",\"spent\",\"star\",\"started\",\"stop\",\"stories\",\"story\",\"storyline\",\"strong\",\"studio\",\"stunning\",\"summer\",\"suppose\",\"supposed\",\"sure\",\"surprised\",\"surprisingly\",\"sweet\",\"taken\",\"takes\",\"taking\",\"tale\",\"tales\",\"talk\",\"tangled\",\"tears\",\"tell\",\"tells\",\"terrible\",\"theme\",\"themes\",\"thing\",\"things\",\"think\",\"thinking\",\"thought\",\"throne\",\"time\",\"times\",\"timon\",\"took\",\"touches\",\"touching\",\"tradition\",\"tries\",\"trolls\",\"trouble\",\"true\",\"truly\",\"trying\",\"turn\",\"turned\",\"turns\",\"twist\",\"typical\",\"uncle\",\"understand\",\"unique\",\"unlike\",\"unnecessary\",\"use\",\"used\",\"usually\",\"villain\",\"visually\",\"visuals\",\"voice\",\"voiced\",\"voices\",\"wait\",\"walking\",\"want\",\"wanted\",\"wants\",\"wasn\",\"watch\",\"watched\",\"watching\",\"water\",\"way\",\"weak\",\"went\",\"white\",\"winter\",\"wish\",\"women\",\"won\",\"wonder\",\"wonderful\",\"words\",\"work\",\"worked\",\"world\",\"worst\",\"worth\",\"wouldn\",\"wrong\",\"year\",\"years\",\"yes\",\"young\",\"younger\",\"zootopia\"],\"x\":{\"__ndarray__\":\"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\",\"dtype\":\"float64\",\"shape\":[517]},\"y\":{\"__ndarray__\":\"9/ACyZls4L+doD3xxvHovxma2kTGvwJAVojzeVZR0r/qURr6WI2mvy0JQicp1tM/Z4L6m3pD3j9q1TWtrhXevw/xOYWpNui/p1qMiP214L9z0tdj15Ljv/VbW1XhotS/B9WHgfiA27+mrszzt4rhPy0Zi6JghhHAfkrBOuNkB8DIFkXpMZ00QBiKWQi718y/rMIuo5MeAUAYk/xAGiDEv4rE0cJDueK/JXC2SoWe2D/Sr7Sx7vvVvws9hjhvsNk/s4BK+AJSxb83ld854B4SQBaO9bWZcMo/LOonmCTP8j8T3jQypPTaP9qnGJd6drm/GFxVgPkNtD9hFEkMQo8GwD30F6Tf8qU/N7mdrpql57+tU48Hugq2P1J7kTFBsnQ/lAfY79mGsL87K8PyzlSiv3/650omeNa/zQffuqn02L+PDOfC/nHjv4syyaAx5ri/8mxRSKc/rD/qZIUJ8TyXv46PjRjQXMS/tVzbKYBz2L9im/vFLvH0vzykEEyArMU/Fura7N/Q27/g8dZwkwwDQJoh0DwlH9+/qrV6oigz9D/LDF05tAYIwAewLwmKr9I/577Em1Ch079TTDKF8w/jv6zgta1rLfS/eQ+2OMRT0L+p26HIw57tvxbNMmINUuQ/lKlJf5Hf3r8OU/gRPAfjvwv6mr3w8rA/hS8KZAVD+L9af5aYQKDev7KpKVq9B+y/N7niA/61878j61s8mOHuv3pSaQP5a8g/D8uZpj/R3z+3QaL49UjaP6NkzEljZ+w/B78/VHcE5T9L+htDm7vCv2gZ2UuAKbm/bQnoPsP7279QOKBm6FG8Pyn77atYKOI/hemN9FFC7r8SyTgYkMbUPwMfkHni2NG/uHi778H8wz97tM+5x0rNv08JPtHXUti/LEy9g49G1z+8s0sqHKzUvyEYORPkp/G//8zEu0es0r8kvlhteUfYv5WT9pfmU9Q/mrG284Uy/7+pOBQPeab2v73aYPeGJ+u/7hskysmA9z91JOmx827NvzFAiZjV+hXAmaPguVZO9T+lp5YIjErmv9aFfHn7E9K/6Aj3tIDx8L9uzkVfgmLSv4IKYKwKf+G/PqIO+aRv1L8CCVuMooDRv7cNqZJtut6/7xe6HFWoOkCQcqqfB1t9vwQ5824gX+K/oXvextuy9j/Aof4nGROjP5QOfZUureQ/I17modmnyL8fDfNQpk7OvzGG2dQMWd2/8dpPXgAO2z8znzA4z8XfP01tN9BpocW/eHTZi9NK6L/2kzAdjV6mvwPvi8f6Stm/SpFIR26ovT+SSLMO9vfav4293gK5gOE/1U11FNdHm7/APolRb2/av7QilzeKQ8u/k6ijWs2P5j8nZQq7K+XgP8QbpRA2McM/D5Siv2HQ4z8rXD5McBzxP1+z3uJISLC/8KAl3UC+5r+F+4r295HsvwU50RS6gATAzqKAjMJt+L9jCfe6cyrhv86CRY72m9S/k7VrV5Hj279ixFbqcqrkP1HOucLCvsS/LWryB16vw79Bup8KVMUAwBPbylTDgqA/r5qMvZR51781qbtcM73Sv7lvBDNIRd0/L0SIy/Yxwj/CEyft0Ce0v8L7R46y29q/9Valss/e7b/BId84CfK4v31YJ/Ky4wRAZGag4yLZ0b+Vf9CDN6zsv/I0mrQY8P+/14jQMULExr952KCQ7wvRv66wAJ1lHrA/H7WtrvNHvb+XA7xR8GTXP8Kx6RtYo/M/ywjvysh79T/XyEYlXPXmP1Lx6MdpM7A/MwMDB2U7EMDGXRR9drzmvxeuO1EuYfm/+B9lmNR4CcCWOO4ZArTmvwKHRzt2WKQ/7/4hNJvp8j/qWocFU5y5v8IX2+FaCOS/XVdns9Nk4L/zCpkcdWIaQFGe/jy+l8I/iB/wDqhZ479ff1nlMZTuv2tO9jr+Nta/Qxk1SrXU4r9psuOQirPjv+eCxBy7ZOs/38chplEMwb9ax9yKfLnfP/J9j5apA/S/TgTROikZ27/hT0yz+gTcv+/wd/jxak2/zf6dsihz0L+U9aW1TznVv1TQA23kicE/MVs7Nd+G2L+Qj3gMvCjpvyQIN3L9fgtAay2BwPnplr9E1jT08SDSv6ATKTlCU9W/MRxHl5Gp4r+acWxHnFfjP7Lvrjr8V/Y/HMMCdtSO5L/oXbLv++nmv7ueyP2Fu+a/4WE2dR3E6r96UpPxfXu+v2U/IEMRbxLAYBTbvqCY1b9CDhsYFxTwv3/kXwzcb+I/YH+yafB71z+/Ww97ZzUTwBq8WCeRGwNA3wDHxjUf4T9kVxLM15f4v4i22UpWFbY/RwmKfwS8FEDbIvXGEUrbPyTolImkeNi/1ZcPLiBuuz8Rkfz/dvzev5pDEJ07o8e/pU/n4eiT2L97i+KtKxPmv0uxwC25I8e/Ac9C3isAq78PfognPn7Mv7Tnl85QAtO/BCOHvOLc6T/5ufqKsYfxvyjqv4vIdLe/77AQRMiQ+b82vcGnUGnSv0o34xI1kNW/T31RbIe/8b/9WWNegQ0RwJFbJpz6AOM/gAGFe6Pu5r92nBGIcejTP2nZD/9uEb2/jHo92Wex0r9RP7XTieazv9zP8RSy90q/XBhQazVP5L9TKdUnZHLtv7ocirWYwyRAQQDIckCM0D+1xFDgvJrcP99U1CY+a9s/OEEgwE9h0z+bcJAXYSHrP7W54mI6n9I/iOYbFm8Guj9DoibNLSnzv8FzEzL4bOU/8xTiqDoe+T+oVKQZQ9jMv+Cvyxf7/oQ/3m/Qykb06T8gKgR0HuuqPwj6bMxLvOM/1Og5biyb0b9CbDxwAsMMwDvf3VzyHNq/McjLLfHg0r978ufVGUDav5EYU+t56NS/o8EPqsRB4T8Bq36fUM7jv0Teo91Wm+U/xQiluni44j/Yxp9gsvW9P+EmZZBdHsS/yvFHIyxj1L8rv8Y2fejdP6GyVSAlFuW/OavVN6aU0L+ulJCLYl3gv4tKMzLJVMO/FE97crkizL8FN7it83kYwA/zlTkMZus/sMSAjlQQ378Rq6Km++TrP56OAWhOd7i/w1SeCwUIm7+xikrVmL4rwBBqp8IROxLAZC4VK/u9xL/1MTIitEYLwA29DclLXdq/ysaW0RnI8L8wARz2Kyfnv6FNe8NEK/e/EIfeVpsy0b9uktdhzV/LP0yiznCCruE/UMIYDIiZ8r8zJNTBJXnZP7n2Q/oxX+y/XUsIjnX3ab+fQz1T9fzbv7KU74VR8eq/DHYsRyZJ9b9xr6Iwi7u+P3YXqx0dOuE/Mb1nf+R89r+44tZ8kPDaP8RrpafRg9u/fBm3b3oIyz+lxSZY+UvHP4V2VAcpiNW/citPlckT0L9/hHRhk7THv3PJA6zHZuc/YtD4AZZz0z8BaSmyEKvIv1/nCEypwtK/mHP9z09z37+YADPdeQ/tv/brTysfxeS/oqAWmhlt4b95VCVJ7aLkv/8HAvnste2/tfbD/vVzBMB0SGT0Iejnv/FTZw0jvtS/gJMtroMG7L8Uf/GrNcm4v0NYzRdX+OQ/UZr5nZu81b+QuR2m76vWvyyxdg1YyN4/kW69ll6f3b+NUsm9dXQFQOV0jHPEWwJANi2fAxwc9D902M8JD6AQQMJQLZoUzAVAXLzpRSuB7z8QIqwNUqvnvwgosEMRUOe/J8eWW4Oc4r8lXu+J3zbdv1CJaPg6/e2/ZxP1OVReD0CvpMsY7iinP36YlPszAOW/3c0I5pAg4b/Kn99kKdO3v/gogq/nOQrAVjpP0tUkwD/LZJngjSrfv8BzHzBoj9W/M9COAl1y0r+t3UEsWMPlP8g0SnHx3tS/HgxjVNIZ3z8LdpcjLt/ovzlRawWikfC/K8iKB+CG1L+WnlBLvULzvztZU2pfPeS/L4ny9nZV7j8lu4ckIjTxP9WakGNTSdk/hf2eqUNT5L/YzLd8JOzcv+lH6qji57g/ZG9VzJsy7T/zW7DU+d3Bv0n+dZfBVQXAtpvQa7hf07+6vNkbrS/Mv7gh9t/x3xDApzGGAFVVwz9eRbMIEsv3P36ZjTVe3+e/mSrO1s4gyD/tA11iRQPlvyEGqHaQ++G/WvMTlvoFxL+4iNVzqP/Av+2EsA1EMue/Uwp1gAWg9r8mnBwIuAHfP4wap6Fimeu/hyGikSTO4b8B88w5BIrmPy9h346+hLc/sNJgfAjX2D/pAi9cYxPQv9Wl59tncag/i0jKTEgi2j+kG3KOJnAhwFhAG0FBt7O/bgFwR7tOOL8KtbopIy7yv6sJpgU2dtW/6s7HuCoiDUDTStAFMAb2PyAz8Glzjda/lyKXCE8Npr9LANnSy8cEQDL0nze2k+G/r5ame7Hoz7/rBTOp6Rz0v9TcLRreMQjANxYixBh1yL9rL4BexfbIv3kTIlrsTeS/aS1u7GiZzL9xKe6vfFndvzZm7bN799G/lJjXE6bsGT/j3n/w9tPhPzR6USNi5tK/misVDOtnoz8cGyneozvqv1FZkFGbJ+o/RvhWwTkTxr8BpNzBbUvqPy1RHInTTOy/dnBDhYWN07+acTZMJXzFv8C70WXzJsI/hJdgMkmQqD/Fqe6aF+TiP0ZR7RZqyuq/4H10CYdQzb/mzttzEcGyv+q9GGgC49K/AJD522igwz/9gvGwj6/dv0ZuRzhywNu/CqGIJ0NJmb8Q4KoJFRfmPzIRvePebNk/iI+30phl1T+apqBz/Qzbv6Iz6CS+yP2/cZzsUegP4b/RG72W9RbaPzpXAhqK6da/BrWLpnPg0j9qW2dJEUP7v7fKvL4DaeO/N5nSxegz+r9euZvaoGrYP67/rfFQAdi/fDsqL287y79AgE5GWTLdP2uQGOxCEcy/QjjK5eec67+cj3ZK2Xvuv5Rh2E6+DcA/Y4o0PddVvL/k5/Wyth3Wv5/rqIddkMW/lb1rWLTdC0C3y3etj8DavywVMhVEAhBAXWOGm3u7cT92N/7C9zfhv61h+7W08uk/U7y1P36Loj+2Au5nrfu/P2fmd0s4Fec/1eVFreJBrb8aU5ZT9OLjv4Wfu3nGpOe/mDGT9lQkzD8PxsaNa/fjvyvjy7jcqt4/HHGMyTQQ2b92WmHkzsLHv9+AiRsGUdO/52YA19om6T8Lnlxt2gTVPyewG4+8C8a/O5plV8US7b9p9A8FwCTpvwYT9nWwGsy/iRBcSiJF2r8OQHK2EXDBv9nm1rIeBu2/jWYmdpK1wr/XrLSPH2fpv+jiyP1Nx+I/a7fx2azD/b8T4gKvRjbnv5EFm2Tsf/G/n64Dsiuj07/IhUWgKtrhvyJrq9e5/eO/a3X5Nlo45r8/fNFhsrFov/J+dEJo9QFAmhCxTUxl2j+f6DfYY+nhPxdHxHRMKO2/+oMyntNe1r8aMxhmIIOwv7L5F4YeT8q/v9IbRTWy57/xyTxrSlreP5lBFZdtHeA/kU4pTboV0D9lxqqcTILNv4n1rLMhs9+/4FbYoKK71L/uTgAR5jzpvxP6nPPKkPG/63K2o7RL9L8+ZpRZUxbsvwI2MVZafre/CKydY5Te578=\",\"dtype\":\"float64\",\"shape\":[517]}}},\"id\":\"45673370-c14c-49ab-9db8-2733d014e427\",\"type\":\"ColumnDataSource\"},{\"attributes\":{},\"id\":\"12064dea-c279-456e-9166-79f1027f0bb8\",\"type\":\"BasicTickFormatter\"},{\"attributes\":{},\"id\":\"1b589f51-54b8-4cab-98ac-5751a5565ad0\",\"type\":\"BasicTicker\"},{\"attributes\":{},\"id\":\"1c07cc67-9726-4618-9164-e44d53860efb\",\"type\":\"PanTool\"},{\"attributes\":{},\"id\":\"5550f157-d0fb-4fb7-8210-94ad9aa2f15c\",\"type\":\"BasicTicker\"},{\"attributes\":{\"callback\":null},\"id\":\"913be770-5b80-48e7-bf4a-c7269468463b\",\"type\":\"DataRange1d\"},{\"attributes\":{\"fill_alpha\":{\"value\":0.1},\"fill_color\":{\"value\":\"#1f77b4\"},\"line_alpha\":{\"value\":0.1},\"line_color\":{\"value\":\"#1f77b4\"},\"size\":{\"units\":\"screen\",\"value\":12},\"x\":{\"field\":\"x\"},\"y\":{\"field\":\"y\"}},\"id\":\"c0d7fcea-1d88-424b-b419-ced33b4b9e16\",\"type\":\"Circle\"},{\"attributes\":{\"active_drag\":\"auto\",\"active_inspect\":\"auto\",\"active_scroll\":\"auto\",\"active_tap\":\"auto\",\"tools\":[{\"id\":\"1c07cc67-9726-4618-9164-e44d53860efb\",\"type\":\"PanTool\"},{\"id\":\"97bf46b5-e429-4d85-8df0-db29114355c8\",\"type\":\"WheelZoomTool\"},{\"id\":\"88ce494e-a12d-4f1d-be7d-d76d2a73d81b\",\"type\":\"BoxZoomTool\"},{\"id\":\"e57c7de8-90c5-4a03-a529-e13f77713280\",\"type\":\"SaveTool\"},{\"id\":\"4b0bd0ce-c09d-4bea-b952-0086fa0133a3\",\"type\":\"ResetTool\"},{\"id\":\"f9a248a8-8b36-4710-9be5-07068ccb5de6\",\"type\":\"HelpTool\"}]},\"id\":\"d8ad3fa0-6ba8-44fb-b0c3-b2cf397b0db8\",\"type\":\"Toolbar\"},{\"attributes\":{\"formatter\":{\"id\":\"12064dea-c279-456e-9166-79f1027f0bb8\",\"type\":\"BasicTickFormatter\"},\"plot\":{\"id\":\"9b6a191b-6ec7-46be-810c-daccac4a5309\",\"subtype\":\"Figure\",\"type\":\"Plot\"},\"ticker\":{\"id\":\"5550f157-d0fb-4fb7-8210-94ad9aa2f15c\",\"type\":\"BasicTicker\"}},\"id\":\"a4ac5a47-30a0-40b7-9d9a-9275b901f9b9\",\"type\":\"LinearAxis\"},{\"attributes\":{\"overlay\":{\"id\":\"9dc2454d-fee9-4401-af5a-af14b8f64b90\",\"type\":\"BoxAnnotation\"}},\"id\":\"88ce494e-a12d-4f1d-be7d-d76d2a73d81b\",\"type\":\"BoxZoomTool\"},{\"attributes\":{},\"id\":\"3ea7c5c3-dcf4-4d7a-a167-521a4773c691\",\"type\":\"BasicTickFormatter\"},{\"attributes\":{\"source\":{\"id\":\"45673370-c14c-49ab-9db8-2733d014e427\",\"type\":\"ColumnDataSource\"}},\"id\":\"36d04ef7-0103-434e-8706-b28fcffe0a8d\",\"type\":\"CDSView\"},{\"attributes\":{\"callback\":null},\"id\":\"5cd2c3bc-3c36-4f3c-9baf-ce6bd7b42be3\",\"type\":\"DataRange1d\"},{\"attributes\":{\"formatter\":{\"id\":\"3ea7c5c3-dcf4-4d7a-a167-521a4773c691\",\"type\":\"BasicTickFormatter\"},\"plot\":{\"id\":\"9b6a191b-6ec7-46be-810c-daccac4a5309\",\"subtype\":\"Figure\",\"type\":\"Plot\"},\"ticker\":{\"id\":\"1b589f51-54b8-4cab-98ac-5751a5565ad0\",\"type\":\"BasicTicker\"}},\"id\":\"62eb655d-96a3-4de6-b7f5-5fb7e6be63c1\",\"type\":\"LinearAxis\"},{\"attributes\":{},\"id\":\"97bf46b5-e429-4d85-8df0-db29114355c8\",\"type\":\"WheelZoomTool\"},{\"attributes\":{},\"id\":\"46a2b3bd-27d6-4bb0-bd5a-766a732eccb0\",\"type\":\"LinearScale\"},{\"attributes\":{},\"id\":\"4b0bd0ce-c09d-4bea-b952-0086fa0133a3\",\"type\":\"ResetTool\"},{\"attributes\":{\"dimension\":1,\"plot\":{\"id\":\"9b6a191b-6ec7-46be-810c-daccac4a5309\",\"subtype\":\"Figure\",\"type\":\"Plot\"},\"ticker\":{\"id\":\"1b589f51-54b8-4cab-98ac-5751a5565ad0\",\"type\":\"BasicTicker\"}},\"id\":\"14a8aed5-e295-40d3-bd6e-a16b72ded522\",\"type\":\"Grid\"},{\"attributes\":{},\"id\":\"bb24f220-ad2e-4edd-9c2b-fe50d05274d3\",\"type\":\"LinearScale\"},{\"attributes\":{\"bottom_units\":\"screen\",\"fill_alpha\":{\"value\":0.5},\"fill_color\":{\"value\":\"lightgrey\"},\"left_units\":\"screen\",\"level\":\"overlay\",\"line_alpha\":{\"value\":1.0},\"line_color\":{\"value\":\"black\"},\"line_dash\":[4,4],\"line_width\":{\"value\":2},\"plot\":null,\"render_mode\":\"css\",\"right_units\":\"screen\",\"top_units\":\"screen\"},\"id\":\"9dc2454d-fee9-4401-af5a-af14b8f64b90\",\"type\":\"BoxAnnotation\"},{\"attributes\":{},\"id\":\"e57c7de8-90c5-4a03-a529-e13f77713280\",\"type\":\"SaveTool\"},{\"attributes\":{},\"id\":\"f9a248a8-8b36-4710-9be5-07068ccb5de6\",\"type\":\"HelpTool\"},{\"attributes\":{\"fill_alpha\":{\"value\":0.8},\"fill_color\":{\"value\":\"#1f77b4\"},\"size\":{\"units\":\"screen\",\"value\":12},\"x\":{\"field\":\"x\"},\"y\":{\"field\":\"y\"}},\"id\":\"72993e05-ad53-4a88-9fa7-f70f1752c9c0\",\"type\":\"Circle\"},{\"attributes\":{\"plot\":{\"id\":\"9b6a191b-6ec7-46be-810c-daccac4a5309\",\"subtype\":\"Figure\",\"type\":\"Plot\"},\"ticker\":{\"id\":\"5550f157-d0fb-4fb7-8210-94ad9aa2f15c\",\"type\":\"BasicTicker\"}},\"id\":\"133a3a60-365e-4a2b-88ad-db4b2e4d3221\",\"type\":\"Grid\"},{\"attributes\":{\"data_source\":{\"id\":\"45673370-c14c-49ab-9db8-2733d014e427\",\"type\":\"ColumnDataSource\"},\"glyph\":{\"id\":\"72993e05-ad53-4a88-9fa7-f70f1752c9c0\",\"type\":\"Circle\"},\"hover_glyph\":null,\"muted_glyph\":null,\"nonselection_glyph\":{\"id\":\"c0d7fcea-1d88-424b-b419-ced33b4b9e16\",\"type\":\"Circle\"},\"selection_glyph\":null,\"view\":{\"id\":\"36d04ef7-0103-434e-8706-b28fcffe0a8d\",\"type\":\"CDSView\"}},\"id\":\"aecb4410-e579-4105-b55b-6b1743be305d\",\"type\":\"GlyphRenderer\"},{\"attributes\":{\"plot\":null,\"text\":\"\"},\"id\":\"f9c60a6c-4d36-488a-836a-a79a9104eb1a\",\"type\":\"Title\"},{\"attributes\":{\"below\":[{\"id\":\"a4ac5a47-30a0-40b7-9d9a-9275b901f9b9\",\"type\":\"LinearAxis\"}],\"left\":[{\"id\":\"62eb655d-96a3-4de6-b7f5-5fb7e6be63c1\",\"type\":\"LinearAxis\"}],\"renderers\":[{\"id\":\"a4ac5a47-30a0-40b7-9d9a-9275b901f9b9\",\"type\":\"LinearAxis\"},{\"id\":\"133a3a60-365e-4a2b-88ad-db4b2e4d3221\",\"type\":\"Grid\"},{\"id\":\"62eb655d-96a3-4de6-b7f5-5fb7e6be63c1\",\"type\":\"LinearAxis\"},{\"id\":\"14a8aed5-e295-40d3-bd6e-a16b72ded522\",\"type\":\"Grid\"},{\"id\":\"9dc2454d-fee9-4401-af5a-af14b8f64b90\",\"type\":\"BoxAnnotation\"},{\"id\":\"aecb4410-e579-4105-b55b-6b1743be305d\",\"type\":\"GlyphRenderer\"},{\"id\":\"0666873b-c23f-4b00-9983-1a361af25b45\",\"type\":\"LabelSet\"}],\"title\":{\"id\":\"f9c60a6c-4d36-488a-836a-a79a9104eb1a\",\"type\":\"Title\"},\"toolbar\":{\"id\":\"d8ad3fa0-6ba8-44fb-b0c3-b2cf397b0db8\",\"type\":\"Toolbar\"},\"x_range\":{\"id\":\"913be770-5b80-48e7-bf4a-c7269468463b\",\"type\":\"DataRange1d\"},\"x_scale\":{\"id\":\"46a2b3bd-27d6-4bb0-bd5a-766a732eccb0\",\"type\":\"LinearScale\"},\"y_range\":{\"id\":\"5cd2c3bc-3c36-4f3c-9baf-ce6bd7b42be3\",\"type\":\"DataRange1d\"},\"y_scale\":{\"id\":\"bb24f220-ad2e-4edd-9c2b-fe50d05274d3\",\"type\":\"LinearScale\"}},\"id\":\"9b6a191b-6ec7-46be-810c-daccac4a5309\",\"subtype\":\"Figure\",\"type\":\"Plot\"},{\"attributes\":{\"plot\":{\"id\":\"9b6a191b-6ec7-46be-810c-daccac4a5309\",\"subtype\":\"Figure\",\"type\":\"Plot\"},\"source\":{\"id\":\"45673370-c14c-49ab-9db8-2733d014e427\",\"type\":\"ColumnDataSource\"},\"text\":{\"field\":\"word\"},\"text_align\":\"center\",\"text_color\":{\"value\":\"#555555\"},\"text_font_size\":{\"value\":\"8pt\"},\"x\":{\"field\":\"x\"},\"y\":{\"field\":\"y\"},\"y_offset\":{\"value\":8}},\"id\":\"0666873b-c23f-4b00-9983-1a361af25b45\",\"type\":\"LabelSet\"}],\"root_ids\":[\"9b6a191b-6ec7-46be-810c-daccac4a5309\"]},\"title\":\"Bokeh Application\",\"version\":\"0.12.10\"}};\n",
       "    var render_items = [{\"docid\":\"2a2392d2-8087-4b98-aa5b-af96a7c5e5e5\",\"elementid\":\"41aa391e-3330-4e90-a6d6-dd1e1f337c1e\",\"modelid\":\"9b6a191b-6ec7-46be-810c-daccac4a5309\",\"notebook_comms_target\":\"2b1fe07a-aa09-488b-af41-e9122ebf18e0\"}];\n",
       "\n",
       "    root.Bokeh.embed.embed_items(docs_json, render_items);\n",
       "  }\n",
       "\n",
       "  if (root.Bokeh !== undefined) {\n",
       "    embed_document(root);\n",
       "  } else {\n",
       "    var attempts = 0;\n",
       "    var timer = setInterval(function(root) {\n",
       "      if (root.Bokeh !== undefined) {\n",
       "        embed_document(root);\n",
       "        clearInterval(timer);\n",
       "      }\n",
       "      attempts++;\n",
       "      if (attempts > 100) {\n",
       "        console.log(\"Bokeh: ERROR: Unable to embed document because BokehJS library is missing\")\n",
       "        clearInterval(timer);\n",
       "      }\n",
       "    }, 10, root)\n",
       "  }\n",
       "})(window);"
      ],
      "application/vnd.bokehjs_exec.v0+json": ""
     },
     "metadata": {
      "application/vnd.bokehjs_exec.v0+json": {
       "id": "9b6a191b-6ec7-46be-810c-daccac4a5309"
      }
     },
     "output_type": "display_data"
    },
    {
     "data": {
      "text/html": [
       "<p><code>&lt;Bokeh Notebook handle for <strong>In[20]</strong>&gt;</code></p>"
      ],
      "text/plain": [
       "<bokeh.io.notebook.CommsHandle at 0x2592684c080>"
      ]
     },
     "execution_count": 20,
     "metadata": {},
     "output_type": "execute_result"
    }
   ],
   "source": [
    "# Separation of words\n",
    "svd = TruncatedSVD(n_components=2)\n",
    "words_2d = svd.fit_transform(reviews_vectorized.T)\n",
    " \n",
    "df = pd.DataFrame(columns=['x', 'y', 'word'])\n",
    "df['x'], df['y'], df['word'] = words_2d[:,0], words_2d[:,1], count_vectorizer.get_feature_names()\n",
    " \n",
    "source = ColumnDataSource(ColumnDataSource.from_df(df))\n",
    "labels = LabelSet(x=\"x\", y=\"y\", text=\"word\", y_offset=8,\n",
    "                  text_font_size=\"8pt\", text_color=\"#555555\",\n",
    "                  source=source, text_align='center')\n",
    " \n",
    "plot = figure(plot_width=600, plot_height=600)\n",
    "plot.circle(\"x\", \"y\", size=12, source=source, line_color=\"black\", fill_alpha=0.8)\n",
    "plot.add_layout(labels)\n",
    "show(plot, notebook_handle=True)"
   ]
  },
  {
   "cell_type": "markdown",
   "metadata": {},
   "source": [
    "> The above plot gives a quick view of the words within our reviews. Since the TruncatedSVD model is built using a count vectorizer, this plot shows which words occur the most. From the plot, we can see that the words 'movie', 'disney', 'elsa', 'anna', and 'love' occur quite often. Plots like these can be very useful in getting a quick glimpse at what your documents mention the most."
   ]
  },
  {
   "cell_type": "markdown",
   "metadata": {},
   "source": [
    "Now that we have a general understanding of how the NMF model works, let's try to fine-tune it a bit by creating different model variations."
   ]
  },
  {
   "cell_type": "markdown",
   "metadata": {},
   "source": [
    "First, I noticed from the initial topic modeling that there were some words that appear in many of the documents; \"movie\", \"film\", etc. I am going to add these to the stopwords. "
   ]
  },
  {
   "cell_type": "code",
   "execution_count": 21,
   "metadata": {},
   "outputs": [],
   "source": [
    "my_stop_words = text.ENGLISH_STOP_WORDS.union([\"movie\", \"film\"])\n",
    "\n",
    "# I would have also removed 'just', but since this can be in reference to morality when used as an adjective, \n",
    "# I will leave it for now. In the future, it would be beneficial to apply a POS-tagger and check for instances such as this."
   ]
  },
  {
   "cell_type": "markdown",
   "metadata": {},
   "source": [
    "Now let's try changing from a standard count vectorizer to the tf-idf vectorizer."
   ]
  },
  {
   "cell_type": "code",
   "execution_count": 22,
   "metadata": {},
   "outputs": [],
   "source": [
    "n_features = 1000\n",
    "n_top_words = 10\n",
    "n_components= 7\n",
    "\n",
    "def print_top_words(model, feature_names, n_top_words):\n",
    "    for topic_idx, topic in enumerate(model.components_):\n",
    "        message = \"Topic #%d: \" % topic_idx\n",
    "        message += \" \".join([feature_names[i]\n",
    "                             for i in topic.argsort()[:-n_top_words - 1:-1]])\n",
    "        print(message)\n",
    "    print()"
   ]
  },
  {
   "cell_type": "code",
   "execution_count": 23,
   "metadata": {},
   "outputs": [
    {
     "name": "stdout",
     "output_type": "stream",
     "text": [
      "Extracting tf-idf features for NMF...\n",
      "done in 0.049s.\n"
     ]
    }
   ],
   "source": [
    "# Use tf-idf features for NMF.\n",
    "print(\"Extracting tf-idf features for NMF...\")\n",
    "tfidf_vectorizer = TfidfVectorizer(max_df=0.95, min_df=2,\n",
    "                                   max_features=n_features,\n",
    "                                   stop_words=my_stop_words)\n",
    "t0 = time()\n",
    "tfidf = tfidf_vectorizer.fit_transform(reviews)\n",
    "print(\"done in %0.3fs.\" % (time() - t0))"
   ]
  },
  {
   "cell_type": "markdown",
   "metadata": {},
   "source": [
    "Using this new vectorizer, lets compare between the Frobenius norm and Kullback-Leibler divergence. Note the change in setting up the NMF model parameters."
   ]
  },
  {
   "cell_type": "code",
   "execution_count": 24,
   "metadata": {},
   "outputs": [
    {
     "name": "stdout",
     "output_type": "stream",
     "text": [
      "Fitting the NMF model (Frobenius norm) with tf-idf features, n_samples=100 and n_features=1000...\n",
      "done in 0.051s.\n",
      "\n",
      "\n",
      "Topics in NMF model (Frobenius norm):\n",
      "Topic #0: disney like just great characters movies animation best story animated\n",
      "Topic #1: elsa anna love hans kristoff princess ice queen prince frozen\n",
      "Topic #2: coco miguel dead family land death musician pixar tradition grandmother\n",
      "Topic #3: moana maui zootopia character ocean plot fun need heart good\n",
      "Topic #4: simba scar king mufasa lion father best cub nala stampede\n",
      "Topic #5: mexican pixar born mexico culture make cried saw just family\n",
      "Topic #6: accurate playing favorite great mermaid following fond food force forced\n",
      "\n"
     ]
    }
   ],
   "source": [
    "# Fit the NMF model\n",
    "print(\"Fitting the NMF model (Frobenius norm) with tf-idf features, \"\n",
    "      \"n_samples=%d and n_features=%d...\"\n",
    "      % (len(reviews), n_features))\n",
    "t0 = time()\n",
    "nmf = NMF(n_components=n_components, random_state=1,\n",
    "          alpha=.1, l1_ratio=.5).fit(tfidf)\n",
    "print(\"done in %0.3fs.\" % (time() - t0))\n",
    "print()\n",
    "print(\"\\nTopics in NMF model (Frobenius norm):\")\n",
    "tfidf_feature_names = tfidf_vectorizer.get_feature_names()\n",
    "print_top_words(nmf, tfidf_feature_names, n_top_words)"
   ]
  },
  {
   "cell_type": "code",
   "execution_count": 25,
   "metadata": {},
   "outputs": [
    {
     "name": "stdout",
     "output_type": "stream",
     "text": [
      "Fitting the NMF model (generalized Kullback-Leibler divergence) with tf-idf features, n_samples=100 and n_features=1000...\n",
      "done in 0.501s.\n",
      "\n",
      "\n",
      "Topics in NMF model (generalized Kullback-Leibler divergence):\n",
      "Topic #0: story characters animation disney best music songs years animated life\n",
      "Topic #1: queen snow frozen anna elsa second bad princess powers plot\n",
      "Topic #2: great pixar time story good visuals work coco miguel ll\n",
      "Topic #3: moana little characters maui 10 disney fun far new good\n",
      "Topic #4: important beautiful young reason friend instead watching uncle end did\n",
      "Topic #5: mexican movies pixar just disney world make takes mind saw\n",
      "Topic #6: great like say people story watched seen think just want\n",
      "\n"
     ]
    }
   ],
   "source": [
    "# Fit the NMF model\n",
    "print(\"Fitting the NMF model (generalized Kullback-Leibler divergence) with \"\n",
    "      \"tf-idf features, n_samples=%d and n_features=%d...\"\n",
    "      % (len(reviews), n_features))\n",
    "t0 = time()\n",
    "nmf = NMF(n_components=n_components, random_state=1,\n",
    "          beta_loss='kullback-leibler', solver='mu', max_iter=1000, alpha=.1,\n",
    "          l1_ratio=.5).fit(tfidf)\n",
    "print(\"done in %0.3fs.\" % (time() - t0))\n",
    "print()\n",
    "print(\"\\nTopics in NMF model (generalized Kullback-Leibler divergence):\")\n",
    "tfidf_feature_names = tfidf_vectorizer.get_feature_names()\n",
    "print_top_words(nmf, tfidf_feature_names, n_top_words)"
   ]
  },
  {
   "cell_type": "markdown",
   "metadata": {},
   "source": [
    "When comparing the two objective functions, it appears that the Frobenius norm provides much more specific feature names between topics. From the Frobenius norm implementation, I can identify the topics as:\n",
    "    \n",
    "    - 0: People who like disney movies/characters in general\n",
    "    - 1: People who are describing the movie Frozen and its' plot/characters\n",
    "    - 2: The movie Coco and its' plot\n",
    "    - 3: People whoe like the movie Moana and find it to be fun\n",
    "    - 4: People who are describing the movie The Lion King and its' plot/characters\n",
    "    - 5: People describing how the movie Coco incorporates the mexican culture\n",
    "    - 6: No inference can be made from the features in this topic\n",
    "\n",
    "With the Kullback-Liebler divergance implementation, however, the features do not shed much light on what the underlying reviews are about:\n",
    "\n",
    "    - 0: Reviews about disney movies and their music\n",
    "    - 1: Reviews about the movie Frozen\n",
    "    - 2: People who like the animation and story of the movie Coco\n",
    "    - 3: People who like the movie Moana\n",
    "    - 4: No inference can be made from the features in this topic\n",
    "    - 5: No inference can be made from the features in this topic\n",
    "    - 6: No inference can be made from the features in this topic"
   ]
  },
  {
   "cell_type": "markdown",
   "metadata": {},
   "source": [
    "With our topics in hand, let's see the SVD visualizations we used in the initial model, but this time using our new word list and NMF model."
   ]
  },
  {
   "cell_type": "code",
   "execution_count": 26,
   "metadata": {},
   "outputs": [
    {
     "data": {
      "text/html": [
       "\n",
       "<div class=\"bk-root\">\n",
       "    <div class=\"bk-plotdiv\" id=\"5c5c9cd6-cba9-4550-bf23-c51dabb5160f\"></div>\n",
       "</div>"
      ]
     },
     "metadata": {},
     "output_type": "display_data"
    },
    {
     "data": {
      "application/javascript": [
       "(function(root) {\n",
       "  function embed_document(root) {\n",
       "    var docs_json = {\"77e47c27-b33a-4735-a43e-4d3ca38a7048\":{\"roots\":{\"references\":[{\"attributes\":{\"data_source\":{\"id\":\"a439b44b-fcd7-4c71-8f88-9baf9985d6ad\",\"type\":\"ColumnDataSource\"},\"glyph\":{\"id\":\"3fa9974e-f102-4fde-87ad-4ac3cc9109f0\",\"type\":\"Circle\"},\"hover_glyph\":null,\"muted_glyph\":null,\"nonselection_glyph\":{\"id\":\"f1572d3b-ebc5-4f37-b472-b77ff53732f9\",\"type\":\"Circle\"},\"selection_glyph\":null,\"view\":{\"id\":\"be242dd0-9d01-47cc-8bfc-f2d6c1fc374b\",\"type\":\"CDSView\"}},\"id\":\"4169c274-077f-4164-8a40-ff02aefe7021\",\"type\":\"GlyphRenderer\"},{\"attributes\":{\"plot\":{\"id\":\"ad4d861d-ae70-4ece-8293-e590d2f99160\",\"subtype\":\"Figure\",\"type\":\"Plot\"},\"source\":{\"id\":\"a439b44b-fcd7-4c71-8f88-9baf9985d6ad\",\"type\":\"ColumnDataSource\"},\"text\":{\"field\":\"document\"},\"text_align\":\"center\",\"text_color\":{\"value\":\"#555555\"},\"text_font_size\":{\"value\":\"8pt\"},\"x\":{\"field\":\"x\"},\"y\":{\"field\":\"y\"},\"y_offset\":{\"value\":8}},\"id\":\"b699fe60-62b0-4a51-81f7-d015a42f7331\",\"type\":\"LabelSet\"},{\"attributes\":{\"plot\":null,\"text\":\"\"},\"id\":\"71d37c78-c8b7-4d76-890e-563e3b7c83e6\",\"type\":\"Title\"},{\"attributes\":{\"fill_alpha\":{\"value\":0.1},\"fill_color\":{\"value\":\"#1f77b4\"},\"line_alpha\":{\"value\":0.1},\"line_color\":{\"value\":\"#1f77b4\"},\"size\":{\"units\":\"screen\",\"value\":12},\"x\":{\"field\":\"x\"},\"y\":{\"field\":\"y\"}},\"id\":\"f1572d3b-ebc5-4f37-b472-b77ff53732f9\",\"type\":\"Circle\"},{\"attributes\":{\"dimension\":1,\"plot\":{\"id\":\"ad4d861d-ae70-4ece-8293-e590d2f99160\",\"subtype\":\"Figure\",\"type\":\"Plot\"},\"ticker\":{\"id\":\"34d8103b-777e-4d70-b0d3-9edf5629ee93\",\"type\":\"BasicTicker\"}},\"id\":\"cdc6e7aa-f96e-4b2b-b706-6d441f433dab\",\"type\":\"Grid\"},{\"attributes\":{\"overlay\":{\"id\":\"c9601248-8be3-4442-83c2-f57766fa907a\",\"type\":\"BoxAnnotation\"}},\"id\":\"5d080481-2d73-4b61-884f-f91cd9ec6269\",\"type\":\"BoxZoomTool\"},{\"attributes\":{\"callback\":null,\"column_names\":[\"x\",\"y\",\"document\",\"index\"],\"data\":{\"document\":{\"__ndarray__\":\"AAAAAAEAAAACAAAAAwAAAAQAAAAFAAAABgAAAAcAAAAIAAAACQAAAAoAAAALAAAADAAAAA0AAAAOAAAADwAAABAAAAARAAAAEgAAABMAAAAUAAAAFQAAABYAAAAXAAAAGAAAABkAAAAaAAAAGwAAABwAAAAdAAAAHgAAAB8AAAAgAAAAIQAAACIAAAAjAAAAJAAAACUAAAAmAAAAJwAAACgAAAApAAAAKgAAACsAAAAsAAAALQAAAC4AAAAvAAAAMAAAADEAAAAyAAAAMwAAADQAAAA1AAAANgAAADcAAAA4AAAAOQAAADoAAAA7AAAAPAAAAD0AAAA+AAAAPwAAAEAAAABBAAAAQgAAAEMAAABEAAAARQAAAEYAAABHAAAASAAAAEkAAABKAAAASwAAAEwAAABNAAAATgAAAE8AAABQAAAAUQAAAFIAAABTAAAAVAAAAFUAAABWAAAAVwAAAFgAAABZAAAAWgAAAFsAAABcAAAAXQAAAF4AAABfAAAAYAAAAGEAAABiAAAAYwAAAA==\",\"dtype\":\"int32\",\"shape\":[100]},\"index\":[0,1,2,3,4,5,6,7,8,9,10,11,12,13,14,15,16,17,18,19,20,21,22,23,24,25,26,27,28,29,30,31,32,33,34,35,36,37,38,39,40,41,42,43,44,45,46,47,48,49,50,51,52,53,54,55,56,57,58,59,60,61,62,63,64,65,66,67,68,69,70,71,72,73,74,75,76,77,78,79,80,81,82,83,84,85,86,87,88,89,90,91,92,93,94,95,96,97,98,99],\"x\":{\"__ndarray__\":\"DSYb6oAq1D/X1ZLTnybTP1P0tKgmHcQ/2mR4iKj/xz9IH8YBtRLZP6VSDNyTMdc/k2O4YOsX2z8nPlDGlb7cP8lAxbLzFsg/T9wCBcMJ2D9u2epL4UvSP2QwWGb7dtU/MYEBwh4M0D+iuwS24kTSP4UFQoGS/tI/eovQssj51T/+S4Zi90LGPzZXHnQPg9I/UAlm0M5kzT/M20M8U2PFP7mhpqlVks4/B+tvmRZOzj8Vq5T8H03aPyvSAf0bl9o/Wg0ZJU4zzT92MND/ogjhP5LuBU679tQ/wLPdEjbs2z84SD0iv2fbPzYOdCo9btg/EzIy1/er2z+mPMFsjofePyxBjmOl3dI/XZ/BDcu82T9kRDF/S6fPP/O1wuqrmdA/GDLZ/wgo2T/O8+g+AwbTP1KPquBKEdI/l3qrGCd/2T/Cy7DSB4zZP8D5dSsK8tA/4xVx1yQS2z+aQaK1JYbaP4zpt85q+tg/xCu8Rsyo1D8/RSqG0h/bP8kdZ1N7GNM/dbL2O6xg4D9clUMpI3LcP7Xe9YiOY8g/Df4xaa7RyT+2CLVfHmbMP1zYlXbWKNo/tHK7qNu6zj99A049iALJPw0czFcGV9E/eTkmiXqfzT+C3R87QkrPP5JAtK07Vrc/uIJv82m00T9kkPlZAHixP8krjQ/QKM4/ALfBRrJDyz/9IO1pi2/UP9zQzzTB2tU/DM+MW6BCxD996uCvZrTUPwyoqSkFBr0/cQTruCWazz8ZjVaAmUjHP50tAvpptdg/s2WVD0ZrxT9unrA+u0zEP8hvdWfQsNQ/nlEKGep/1T9EqXD6BqDKP9D74yual9A/G/tal0BD0z8mWH269NHNP+YeJlE5ytc/Xj7F4rYc0D9yqBdzZjnTP719sr/UWc0/FXsgfbO50z/ny3dSE3bUP65qKMLB7NE/o5Ul447n1j/Tvi9AAF7ZP380Sa3wI9U/1u8zCvIG0D/5Rc3yRTPaP6dauCzKltE/aU3oKKnj0z+c6wWRkH7ZP/AtRCF+O94/lsAwiR+n0j/kMWOvsdHIPwGn7bReLdc/c02c6TNE1z8=\",\"dtype\":\"float64\",\"shape\":[100]},\"y\":{\"__ndarray__\":\"WPm8/I4cor8ll6vA7piovyyJ4E5hC70/Eq3kW0oMr79J6v9eskecv1B3b7spyYW/jzC25vHblD8Xdc8OxbaYv8lwrzSr9K6/d8F0FxAnrj/K4kThySjBv24AycB4EK8/hDM/JP1MgL8g0nJ5cd6zv35D0Ti/fKE/UhyHAzt8lD8qxRUKUSegPzaA155TX/Q+oPtEsv6ZjL+h+Y9ic3OjP2wtF6du3aQ/eGC9LXfUsD+n4JwYlwC3P6bqV2RO/LA/9i5AHXY2Yz8hg3UPHSLbP9657J1YRKU/ANs7w8Brrb+2E9+Sk8zbPxRG57NfQsw/38KAfmONQz9Kqn3qykXVP7X082Srwou/o+74hYTx4T9smfASOlOoP8tTXdhkQXi/ekdpvEWz4D+qkx9XuqWIPycwbHXUC88/HFEgMK+v1j9aDCPH6T7SP4E6f1OTHae/sz7BNr6u2D/gAgsT0TyiP51cnnx8Odg/tgwo6MzEb78R9D+NotXVP2DV6bGVPs0/eilaLAY9yj8Y4cl3UWXYP4W6fVg9DMC/LSek/w/+xr+riPxaBAmyv3nUr7haYMm/nrOm4zX/yL8L0GDslku/vxPtFg6oGri/ihGTdAcFx7+Br+69wgbGvxDe/vG/obC/nRqo9+uvxr+8LRNkSJ2pv1mtIVMREsq/ZPn1a9CHvL8+9HqZGYbAv6o7ZY36Wcu/kQ2tRQgbuL+2Ikmo9SS8v7spsZqrRbe/minEE+Lrk7+RIyekWGHDv9WJCxYkkcK/8q/TsdPAvb/QagaToK2xvwbedTpIhr2/5+DpyYUo1r/EW6jGqRPCv2RLCl04OMi/g4/H/RpCz7/1mWLOdOGyvxg3s7XzaMe/YLrlbyTNyL/2iYQyjoLHv2caaO7XgcS/Lt/T0Po3w7/8k+XeUezEv6mi5KSiSLy/pDgFRPzV0r9UJzSXFzXSv16xtLgP/sO//kou/V+Qtr87OFOWA5LEv/OLXXrpkLO/aDOPJJihuL/fS3PmpPfTv/drG9mz0sO/CKsVp2X30L8HLQ95KnrBv3XCMkU3R8C/ZRtSPK2My78=\",\"dtype\":\"float64\",\"shape\":[100]}}},\"id\":\"a439b44b-fcd7-4c71-8f88-9baf9985d6ad\",\"type\":\"ColumnDataSource\"},{\"attributes\":{\"plot\":{\"id\":\"ad4d861d-ae70-4ece-8293-e590d2f99160\",\"subtype\":\"Figure\",\"type\":\"Plot\"},\"ticker\":{\"id\":\"b4cb86ad-96a9-4a0e-a283-18f0025d49be\",\"type\":\"BasicTicker\"}},\"id\":\"d0f2574f-5a64-45ee-9b8f-5ed52903c8b8\",\"type\":\"Grid\"},{\"attributes\":{},\"id\":\"b4cb86ad-96a9-4a0e-a283-18f0025d49be\",\"type\":\"BasicTicker\"},{\"attributes\":{},\"id\":\"9c80f883-5a37-45ca-8859-6313fb145336\",\"type\":\"HelpTool\"},{\"attributes\":{\"source\":{\"id\":\"a439b44b-fcd7-4c71-8f88-9baf9985d6ad\",\"type\":\"ColumnDataSource\"}},\"id\":\"be242dd0-9d01-47cc-8bfc-f2d6c1fc374b\",\"type\":\"CDSView\"},{\"attributes\":{},\"id\":\"f4d2aac9-f590-44cb-934a-6c8ae7c94d5d\",\"type\":\"SaveTool\"},{\"attributes\":{\"bottom_units\":\"screen\",\"fill_alpha\":{\"value\":0.5},\"fill_color\":{\"value\":\"lightgrey\"},\"left_units\":\"screen\",\"level\":\"overlay\",\"line_alpha\":{\"value\":1.0},\"line_color\":{\"value\":\"black\"},\"line_dash\":[4,4],\"line_width\":{\"value\":2},\"plot\":null,\"render_mode\":\"css\",\"right_units\":\"screen\",\"top_units\":\"screen\"},\"id\":\"c9601248-8be3-4442-83c2-f57766fa907a\",\"type\":\"BoxAnnotation\"},{\"attributes\":{\"callback\":null},\"id\":\"2100dbcd-76fb-4973-a65e-4310f96d8b8e\",\"type\":\"DataRange1d\"},{\"attributes\":{},\"id\":\"d628c327-09a5-43d3-a1a7-ba4b619eb8af\",\"type\":\"PanTool\"},{\"attributes\":{},\"id\":\"01964f6e-24c4-4a2b-9e92-37dc7b150345\",\"type\":\"LinearScale\"},{\"attributes\":{},\"id\":\"96b3ccac-f4e7-4455-8191-501a4e2ef8e2\",\"type\":\"BasicTickFormatter\"},{\"attributes\":{\"formatter\":{\"id\":\"96b3ccac-f4e7-4455-8191-501a4e2ef8e2\",\"type\":\"BasicTickFormatter\"},\"plot\":{\"id\":\"ad4d861d-ae70-4ece-8293-e590d2f99160\",\"subtype\":\"Figure\",\"type\":\"Plot\"},\"ticker\":{\"id\":\"34d8103b-777e-4d70-b0d3-9edf5629ee93\",\"type\":\"BasicTicker\"}},\"id\":\"3c502d8a-d2fe-4cbe-a9d2-98d395571ef8\",\"type\":\"LinearAxis\"},{\"attributes\":{},\"id\":\"759d1297-93e1-471c-ad38-790025568393\",\"type\":\"ResetTool\"},{\"attributes\":{\"active_drag\":\"auto\",\"active_inspect\":\"auto\",\"active_scroll\":\"auto\",\"active_tap\":\"auto\",\"tools\":[{\"id\":\"d628c327-09a5-43d3-a1a7-ba4b619eb8af\",\"type\":\"PanTool\"},{\"id\":\"1b273ee1-44a8-4769-9156-236bfbe6557b\",\"type\":\"WheelZoomTool\"},{\"id\":\"5d080481-2d73-4b61-884f-f91cd9ec6269\",\"type\":\"BoxZoomTool\"},{\"id\":\"f4d2aac9-f590-44cb-934a-6c8ae7c94d5d\",\"type\":\"SaveTool\"},{\"id\":\"759d1297-93e1-471c-ad38-790025568393\",\"type\":\"ResetTool\"},{\"id\":\"9c80f883-5a37-45ca-8859-6313fb145336\",\"type\":\"HelpTool\"}]},\"id\":\"c0afa155-9356-44fc-88a4-98708d41bdc2\",\"type\":\"Toolbar\"},{\"attributes\":{},\"id\":\"1b273ee1-44a8-4769-9156-236bfbe6557b\",\"type\":\"WheelZoomTool\"},{\"attributes\":{\"callback\":null},\"id\":\"c0d9c809-ea13-4c1c-a048-f3506799d193\",\"type\":\"DataRange1d\"},{\"attributes\":{},\"id\":\"34d8103b-777e-4d70-b0d3-9edf5629ee93\",\"type\":\"BasicTicker\"},{\"attributes\":{},\"id\":\"d4fc4ffa-a19d-4c83-998d-33702b794d94\",\"type\":\"BasicTickFormatter\"},{\"attributes\":{},\"id\":\"1a4fb6aa-2063-44ac-a429-f49a33588a66\",\"type\":\"LinearScale\"},{\"attributes\":{\"below\":[{\"id\":\"29f6ad9d-b84d-48d9-89cb-a5512c06fb3e\",\"type\":\"LinearAxis\"}],\"left\":[{\"id\":\"3c502d8a-d2fe-4cbe-a9d2-98d395571ef8\",\"type\":\"LinearAxis\"}],\"renderers\":[{\"id\":\"29f6ad9d-b84d-48d9-89cb-a5512c06fb3e\",\"type\":\"LinearAxis\"},{\"id\":\"d0f2574f-5a64-45ee-9b8f-5ed52903c8b8\",\"type\":\"Grid\"},{\"id\":\"3c502d8a-d2fe-4cbe-a9d2-98d395571ef8\",\"type\":\"LinearAxis\"},{\"id\":\"cdc6e7aa-f96e-4b2b-b706-6d441f433dab\",\"type\":\"Grid\"},{\"id\":\"c9601248-8be3-4442-83c2-f57766fa907a\",\"type\":\"BoxAnnotation\"},{\"id\":\"4169c274-077f-4164-8a40-ff02aefe7021\",\"type\":\"GlyphRenderer\"},{\"id\":\"b699fe60-62b0-4a51-81f7-d015a42f7331\",\"type\":\"LabelSet\"}],\"title\":{\"id\":\"71d37c78-c8b7-4d76-890e-563e3b7c83e6\",\"type\":\"Title\"},\"toolbar\":{\"id\":\"c0afa155-9356-44fc-88a4-98708d41bdc2\",\"type\":\"Toolbar\"},\"x_range\":{\"id\":\"2100dbcd-76fb-4973-a65e-4310f96d8b8e\",\"type\":\"DataRange1d\"},\"x_scale\":{\"id\":\"01964f6e-24c4-4a2b-9e92-37dc7b150345\",\"type\":\"LinearScale\"},\"y_range\":{\"id\":\"c0d9c809-ea13-4c1c-a048-f3506799d193\",\"type\":\"DataRange1d\"},\"y_scale\":{\"id\":\"1a4fb6aa-2063-44ac-a429-f49a33588a66\",\"type\":\"LinearScale\"}},\"id\":\"ad4d861d-ae70-4ece-8293-e590d2f99160\",\"subtype\":\"Figure\",\"type\":\"Plot\"},{\"attributes\":{\"formatter\":{\"id\":\"d4fc4ffa-a19d-4c83-998d-33702b794d94\",\"type\":\"BasicTickFormatter\"},\"plot\":{\"id\":\"ad4d861d-ae70-4ece-8293-e590d2f99160\",\"subtype\":\"Figure\",\"type\":\"Plot\"},\"ticker\":{\"id\":\"b4cb86ad-96a9-4a0e-a283-18f0025d49be\",\"type\":\"BasicTicker\"}},\"id\":\"29f6ad9d-b84d-48d9-89cb-a5512c06fb3e\",\"type\":\"LinearAxis\"},{\"attributes\":{\"fill_alpha\":{\"value\":0.8},\"fill_color\":{\"value\":\"#1f77b4\"},\"size\":{\"units\":\"screen\",\"value\":12},\"x\":{\"field\":\"x\"},\"y\":{\"field\":\"y\"}},\"id\":\"3fa9974e-f102-4fde-87ad-4ac3cc9109f0\",\"type\":\"Circle\"}],\"root_ids\":[\"ad4d861d-ae70-4ece-8293-e590d2f99160\"]},\"title\":\"Bokeh Application\",\"version\":\"0.12.10\"}};\n",
       "    var render_items = [{\"docid\":\"77e47c27-b33a-4735-a43e-4d3ca38a7048\",\"elementid\":\"5c5c9cd6-cba9-4550-bf23-c51dabb5160f\",\"modelid\":\"ad4d861d-ae70-4ece-8293-e590d2f99160\",\"notebook_comms_target\":\"25106604-8076-431b-9c95-3be1ada54833\"}];\n",
       "\n",
       "    root.Bokeh.embed.embed_items(docs_json, render_items);\n",
       "  }\n",
       "\n",
       "  if (root.Bokeh !== undefined) {\n",
       "    embed_document(root);\n",
       "  } else {\n",
       "    var attempts = 0;\n",
       "    var timer = setInterval(function(root) {\n",
       "      if (root.Bokeh !== undefined) {\n",
       "        embed_document(root);\n",
       "        clearInterval(timer);\n",
       "      }\n",
       "      attempts++;\n",
       "      if (attempts > 100) {\n",
       "        console.log(\"Bokeh: ERROR: Unable to embed document because BokehJS library is missing\")\n",
       "        clearInterval(timer);\n",
       "      }\n",
       "    }, 10, root)\n",
       "  }\n",
       "})(window);"
      ],
      "application/vnd.bokehjs_exec.v0+json": ""
     },
     "metadata": {
      "application/vnd.bokehjs_exec.v0+json": {
       "id": "ad4d861d-ae70-4ece-8293-e590d2f99160"
      }
     },
     "output_type": "display_data"
    },
    {
     "data": {
      "text/html": [
       "<p><code>&lt;Bokeh Notebook handle for <strong>In[26]</strong>&gt;</code></p>"
      ],
      "text/plain": [
       "<bokeh.io.notebook.CommsHandle at 0x25927166c18>"
      ]
     },
     "execution_count": 26,
     "metadata": {},
     "output_type": "execute_result"
    }
   ],
   "source": [
    "svd = TruncatedSVD(n_components=2)\n",
    "documents_2d = svd.fit_transform(tfidf)\n",
    " \n",
    "df = pd.DataFrame(columns=['x', 'y', 'document'])\n",
    "df['x'], df['y'], df['document'] = documents_2d[:,0], documents_2d[:,1], range(len(reviews))\n",
    " \n",
    "source = ColumnDataSource(ColumnDataSource.from_df(df))\n",
    "labels = LabelSet(x=\"x\", y=\"y\", text=\"document\", y_offset=8,\n",
    "                  text_font_size=\"8pt\", text_color=\"#555555\",\n",
    "                  source=source, text_align='center')\n",
    " \n",
    "plot = figure(plot_width=600, plot_height=600)\n",
    "plot.circle(\"x\", \"y\", size=12, source=source, line_color=\"black\", fill_alpha=0.8)\n",
    "plot.add_layout(labels)\n",
    "show(plot, notebook_handle=True)"
   ]
  },
  {
   "cell_type": "code",
   "execution_count": 27,
   "metadata": {},
   "outputs": [
    {
     "data": {
      "text/html": [
       "\n",
       "<div class=\"bk-root\">\n",
       "    <div class=\"bk-plotdiv\" id=\"928b7150-ef72-4d62-935b-764e3857c66c\"></div>\n",
       "</div>"
      ]
     },
     "metadata": {},
     "output_type": "display_data"
    },
    {
     "data": {
      "application/javascript": [
       "(function(root) {\n",
       "  function embed_document(root) {\n",
       "    var docs_json = {\"0a765f92-d1de-47f7-9a72-5e54d4b57385\":{\"roots\":{\"references\":[{\"attributes\":{\"formatter\":{\"id\":\"691745ba-01e2-4afe-8be4-6c1311bc4046\",\"type\":\"BasicTickFormatter\"},\"plot\":{\"id\":\"83440c61-6874-452e-9d6a-6c4068e31cb9\",\"subtype\":\"Figure\",\"type\":\"Plot\"},\"ticker\":{\"id\":\"e8eaef5e-e9cb-4e0d-ad72-b3b1de4daf29\",\"type\":\"BasicTicker\"}},\"id\":\"538cf422-7168-410a-ba89-a1acee952a6e\",\"type\":\"LinearAxis\"},{\"attributes\":{\"plot\":{\"id\":\"83440c61-6874-452e-9d6a-6c4068e31cb9\",\"subtype\":\"Figure\",\"type\":\"Plot\"},\"ticker\":{\"id\":\"45d31a3a-158a-461f-b436-c3060a67b862\",\"type\":\"BasicTicker\"}},\"id\":\"97d7e4f7-727f-47d1-b11b-22eb92809b99\",\"type\":\"Grid\"},{\"attributes\":{\"overlay\":{\"id\":\"37563ddc-7b8d-4fe3-8571-9fd79b0cf02d\",\"type\":\"BoxAnnotation\"}},\"id\":\"b3b6c205-5c02-4290-a7ef-e15247b4f937\",\"type\":\"BoxZoomTool\"},{\"attributes\":{},\"id\":\"2dd92a33-4943-4e3b-b2fb-961edfd22dbc\",\"type\":\"HelpTool\"},{\"attributes\":{\"data_source\":{\"id\":\"1c48efb2-3a95-4b83-b2ba-796dc5b015ca\",\"type\":\"ColumnDataSource\"},\"glyph\":{\"id\":\"1cc37ffa-6465-441e-b0b6-4c3d7e9258c3\",\"type\":\"Circle\"},\"hover_glyph\":null,\"muted_glyph\":null,\"nonselection_glyph\":{\"id\":\"370a4cb1-5300-48fa-b63d-29637e8a634f\",\"type\":\"Circle\"},\"selection_glyph\":null,\"view\":{\"id\":\"4d0b91e3-077f-4e92-93b8-e9ce3709a07b\",\"type\":\"CDSView\"}},\"id\":\"9c4be59a-6b24-4358-8297-203c682d47a0\",\"type\":\"GlyphRenderer\"},{\"attributes\":{\"fill_alpha\":{\"value\":0.1},\"fill_color\":{\"value\":\"#1f77b4\"},\"line_alpha\":{\"value\":0.1},\"line_color\":{\"value\":\"#1f77b4\"},\"size\":{\"units\":\"screen\",\"value\":12},\"x\":{\"field\":\"x\"},\"y\":{\"field\":\"y\"}},\"id\":\"370a4cb1-5300-48fa-b63d-29637e8a634f\",\"type\":\"Circle\"},{\"attributes\":{},\"id\":\"7fe3decc-295a-4cd2-a517-ef50939d7d6f\",\"type\":\"ResetTool\"},{\"attributes\":{\"plot\":{\"id\":\"83440c61-6874-452e-9d6a-6c4068e31cb9\",\"subtype\":\"Figure\",\"type\":\"Plot\"},\"source\":{\"id\":\"1c48efb2-3a95-4b83-b2ba-796dc5b015ca\",\"type\":\"ColumnDataSource\"},\"text\":{\"field\":\"word\"},\"text_align\":\"center\",\"text_color\":{\"value\":\"#555555\"},\"text_font_size\":{\"value\":\"8pt\"},\"x\":{\"field\":\"x\"},\"y\":{\"field\":\"y\"},\"y_offset\":{\"value\":8}},\"id\":\"81a109fa-bcd8-4ec9-914f-3662a57251ba\",\"type\":\"LabelSet\"},{\"attributes\":{},\"id\":\"d77ca052-4e1f-46f3-b59b-37391eb4438e\",\"type\":\"PanTool\"},{\"attributes\":{\"callback\":null,\"column_names\":[\"x\",\"y\",\"word\",\"index\"],\"data\":{\"index\":[0,1,2,3,4,5,6,7,8,9,10,11,12,13,14,15,16,17,18,19,20,21,22,23,24,25,26,27,28,29,30,31,32,33,34,35,36,37,38,39,40,41,42,43,44,45,46,47,48,49,50,51,52,53,54,55,56,57,58,59,60,61,62,63,64,65,66,67,68,69,70,71,72,73,74,75,76,77,78,79,80,81,82,83,84,85,86,87,88,89,90,91,92,93,94,95,96,97,98,99,100,101,102,103,104,105,106,107,108,109,110,111,112,113,114,115,116,117,118,119,120,121,122,123,124,125,126,127,128,129,130,131,132,133,134,135,136,137,138,139,140,141,142,143,144,145,146,147,148,149,150,151,152,153,154,155,156,157,158,159,160,161,162,163,164,165,166,167,168,169,170,171,172,173,174,175,176,177,178,179,180,181,182,183,184,185,186,187,188,189,190,191,192,193,194,195,196,197,198,199,200,201,202,203,204,205,206,207,208,209,210,211,212,213,214,215,216,217,218,219,220,221,222,223,224,225,226,227,228,229,230,231,232,233,234,235,236,237,238,239,240,241,242,243,244,245,246,247,248,249,250,251,252,253,254,255,256,257,258,259,260,261,262,263,264,265,266,267,268,269,270,271,272,273,274,275,276,277,278,279,280,281,282,283,284,285,286,287,288,289,290,291,292,293,294,295,296,297,298,299,300,301,302,303,304,305,306,307,308,309,310,311,312,313,314,315,316,317,318,319,320,321,322,323,324,325,326,327,328,329,330,331,332,333,334,335,336,337,338,339,340,341,342,343,344,345,346,347,348,349,350,351,352,353,354,355,356,357,358,359,360,361,362,363,364,365,366,367,368,369,370,371,372,373,374,375,376,377,378,379,380,381,382,383,384,385,386,387,388,389,390,391,392,393,394,395,396,397,398,399,400,401,402,403,404,405,406,407,408,409,410,411,412,413,414,415,416,417,418,419,420,421,422,423,424,425,426,427,428,429,430,431,432,433,434,435,436,437,438,439,440,441,442,443,444,445,446,447,448,449,450,451,452,453,454,455,456,457,458,459,460,461,462,463,464,465,466,467,468,469,470,471,472,473,474,475,476,477,478,479,480,481,482,483,484,485,486,487,488,489,490,491,492,493,494,495,496,497,498,499,500,501,502,503,504,505,506,507,508,509,510,511,512,513,514,515,516,517,518,519,520,521,522,523,524,525,526,527,528,529,530,531,532,533,534,535,536,537,538,539,540,541,542,543,544,545,546,547,548,549,550,551,552,553,554,555,556,557,558,559,560,561,562,563,564,565,566,567,568,569,570,571,572,573,574,575,576,577,578,579,580,581,582,583,584,585,586,587,588,589,590,591,592,593,594,595,596,597,598,599,600,601,602,603,604,605,606,607,608,609,610,611,612,613,614,615,616,617,618,619,620,621,622,623,624,625,626,627,628,629,630,631,632,633,634,635,636,637,638,639,640,641,642,643,644,645,646,647,648,649,650,651,652,653,654,655,656,657,658,659,660,661,662,663,664,665,666,667,668,669,670,671,672,673,674,675,676,677,678,679,680,681,682,683,684,685,686,687,688,689,690,691,692,693,694,695,696,697,698,699,700,701,702,703,704,705,706,707,708,709,710,711,712,713,714,715,716,717,718,719,720,721,722,723,724,725,726,727,728,729,730,731,732,733,734,735,736,737,738,739,740,741,742,743,744,745,746,747,748,749,750,751,752,753,754,755,756,757,758,759,760,761,762,763,764,765,766,767,768,769,770,771,772,773,774,775,776,777,778,779,780,781,782,783,784,785,786,787,788,789,790,791,792,793,794,795,796,797,798,799,800,801,802,803,804,805,806,807,808,809,810,811,812,813,814,815,816,817,818,819,820,821,822,823,824,825,826,827,828,829,830,831,832,833,834,835,836,837,838,839,840,841,842,843,844,845,846,847,848,849,850,851,852,853,854,855,856,857,858,859,860,861,862,863,864,865,866,867,868,869,870,871,872,873,874,875,876,877,878,879,880,881,882,883,884,885,886,887,888,889,890,891,892,893,894,895,896,897,898,899,900,901,902,903,904,905,906,907,908,909,910,911,912,913,914,915,916,917,918,919,920,921,922,923,924,925,926,927,928,929,930,931,932,933,934,935,936,937,938,939,940,941,942,943,944,945,946,947,948,949,950,951,952,953,954,955,956,957,958,959,960,961,962,963,964,965,966,967,968,969,970,971,972,973,974,975,976,977,978,979,980,981,982,983,984,985,986,987,988,989,990,991,992,993,994,995,996,997,998,999],\"word\":[\"10\",\"1994\",\"2003\",\"2015\",\"3d\",\"ability\",\"able\",\"absolutely\",\"academy\",\"accept\",\"accidentally\",\"accurate\",\"act\",\"acting\",\"action\",\"actual\",\"actually\",\"add\",\"added\",\"admit\",\"adult\",\"adults\",\"adventure\",\"aforementioned\",\"africa\",\"age\",\"ages\",\"agree\",\"ahead\",\"aid\",\"aimed\",\"ain\",\"aladdin\",\"alive\",\"amazing\",\"animal\",\"animals\",\"animated\",\"animation\",\"anna\",\"annoying\",\"anti\",\"anymore\",\"anyways\",\"apart\",\"apparently\",\"appear\",\"appeared\",\"aren\",\"arendelle\",\"arguably\",\"argue\",\"art\",\"ask\",\"asks\",\"attempt\",\"attempts\",\"attention\",\"audience\",\"auli\",\"away\",\"awesome\",\"awkward\",\"background\",\"bad\",\"basically\",\"beast\",\"beautiful\",\"beautifully\",\"beauty\",\"beginning\",\"believe\",\"bell\",\"belle\",\"best\",\"better\",\"biased\",\"big\",\"biggest\",\"bit\",\"blue\",\"book\",\"bored\",\"boring\",\"born\",\"boy\",\"brave\",\"break\",\"breath\",\"breathtaking\",\"brief\",\"brilliant\",\"bring\",\"brings\",\"brother\",\"brothers\",\"brought\",\"build\",\"building\",\"called\",\"came\",\"capture\",\"captured\",\"captures\",\"care\",\"caring\",\"cartoon\",\"cartoons\",\"case\",\"cast\",\"castle\",\"catchy\",\"certainly\",\"cgi\",\"chance\",\"change\",\"character\",\"characters\",\"charming\",\"chemistry\",\"chicken\",\"chief\",\"child\",\"childhood\",\"children\",\"chosen\",\"cinema\",\"circle\",\"classic\",\"classics\",\"clear\",\"clearly\",\"clich\\u00e9\",\"clich\\u00e9s\",\"close\",\"coco\",\"cold\",\"colors\",\"come\",\"comedy\",\"comes\",\"comic\",\"coming\",\"compared\",\"complete\",\"completely\",\"computer\",\"concept\",\"conclusion\",\"conflict\",\"considering\",\"control\",\"cool\",\"couldn\",\"countless\",\"couple\",\"course\",\"create\",\"created\",\"creating\",\"creative\",\"creativity\",\"cried\",\"cringe\",\"crowd\",\"crying\",\"cub\",\"culture\",\"currently\",\"curse\",\"cursed\",\"curses\",\"cut\",\"cute\",\"cutter\",\"cynical\",\"dad\",\"damn\",\"danger\",\"dangerous\",\"dark\",\"date\",\"daughter\",\"day\",\"days\",\"dead\",\"death\",\"decade\",\"decent\",\"decides\",\"deep\",\"deeper\",\"definitely\",\"delightful\",\"demi\",\"demigod\",\"demon\",\"depth\",\"deserves\",\"deserving\",\"desirable\",\"desire\",\"despite\",\"determined\",\"development\",\"dia\",\"dialog\",\"dialogue\",\"did\",\"didn\",\"die\",\"dies\",\"different\",\"dimensional\",\"direction\",\"disappoint\",\"disappointed\",\"disappointing\",\"disappointment\",\"discovers\",\"disney\",\"does\",\"doesn\",\"doing\",\"don\",\"door\",\"doubt\",\"drama\",\"dramatic\",\"drawing\",\"drawn\",\"drive\",\"driven\",\"dropping\",\"duke\",\"dull\",\"dvd\",\"dwayne\",\"earl\",\"early\",\"easily\",\"easy\",\"eat\",\"effect\",\"effective\",\"effort\",\"element\",\"elements\",\"elsa\",\"elton\",\"emotion\",\"emotional\",\"emotionally\",\"end\",\"ended\",\"ending\",\"enemy\",\"enjoy\",\"enjoyable\",\"enjoyed\",\"entertaining\",\"entertainment\",\"entire\",\"epic\",\"equally\",\"especially\",\"essential\",\"eternal\",\"events\",\"eventually\",\"everybody\",\"evil\",\"example\",\"examples\",\"excellent\",\"exception\",\"exciting\",\"exist\",\"expect\",\"expected\",\"expecting\",\"experience\",\"explain\",\"explanation\",\"extremely\",\"eyes\",\"face\",\"fact\",\"fails\",\"fairy\",\"fall\",\"falls\",\"family\",\"famous\",\"fan\",\"fans\",\"fantastic\",\"fantasy\",\"far\",\"fascinating\",\"fast\",\"father\",\"fathers\",\"favorite\",\"fear\",\"feature\",\"features\",\"feel\",\"feeling\",\"feels\",\"felt\",\"female\",\"feminine\",\"feminist\",\"filled\",\"films\",\"finally\",\"finding\",\"fine\",\"finest\",\"fit\",\"fiti\",\"fits\",\"fixer\",\"flawless\",\"flees\",\"flow\",\"focus\",\"following\",\"follows\",\"fond\",\"food\",\"force\",\"forced\",\"foreign\",\"forever\",\"forget\",\"forgettable\",\"form\",\"formula\",\"formulaic\",\"forward\",\"frankly\",\"freaking\",\"free\",\"fresh\",\"friend\",\"friends\",\"frog\",\"frozen\",\"fully\",\"fun\",\"funny\",\"future\",\"gave\",\"gender\",\"gets\",\"getting\",\"giant\",\"girl\",\"girls\",\"given\",\"gives\",\"giving\",\"god\",\"goddess\",\"gods\",\"goes\",\"going\",\"good\",\"gorgeous\",\"got\",\"grandma\",\"grandmother\",\"great\",\"greatest\",\"grow\",\"growing\",\"grown\",\"guess\",\"guy\",\"guys\",\"hakuna\",\"half\",\"hand\",\"hands\",\"hans\",\"happen\",\"happened\",\"happens\",\"happiness\",\"happy\",\"hard\",\"hasn\",\"hate\",\"haven\",\"having\",\"head\",\"hearing\",\"heart\",\"hell\",\"help\",\"helps\",\"hero\",\"heroine\",\"high\",\"highly\",\"history\",\"hit\",\"hold\",\"holes\",\"honestly\",\"hope\",\"hours\",\"huge\",\"human\",\"humor\",\"hyenas\",\"hype\",\"ice\",\"idea\",\"ideas\",\"idina\",\"important\",\"incredible\",\"innocence\",\"inside\",\"inspired\",\"instead\",\"interesting\",\"irons\",\"island\",\"islands\",\"isn\",\"issues\",\"james\",\"jar\",\"jeremy\",\"job\",\"johnson\",\"jokes\",\"jones\",\"journey\",\"joy\",\"just\",\"ka\",\"keeps\",\"kid\",\"kids\",\"kill\",\"killed\",\"kills\",\"kind\",\"king\",\"kingdom\",\"kiss\",\"knew\",\"know\",\"known\",\"knows\",\"kristen\",\"kristoff\",\"lack\",\"lackluster\",\"land\",\"landscapes\",\"large\",\"later\",\"laugh\",\"lazy\",\"lead\",\"leader\",\"learn\",\"learned\",\"learning\",\"leave\",\"left\",\"lesson\",\"lessons\",\"let\",\"lets\",\"level\",\"life\",\"lifetime\",\"likable\",\"like\",\"liked\",\"likely\",\"line\",\"lines\",\"lion\",\"list\",\"literally\",\"little\",\"live\",\"living\",\"ll\",\"long\",\"look\",\"looking\",\"looks\",\"los\",\"lost\",\"lot\",\"loud\",\"love\",\"loved\",\"lovely\",\"loves\",\"low\",\"lush\",\"lyrics\",\"magic\",\"magical\",\"main\",\"majestic\",\"make\",\"makes\",\"making\",\"male\",\"man\",\"managed\",\"manages\",\"married\",\"marry\",\"masterpiece\",\"matata\",\"match\",\"matter\",\"maui\",\"maybe\",\"mean\",\"meaning\",\"means\",\"meant\",\"mediocre\",\"meet\",\"memorable\",\"memories\",\"men\",\"mention\",\"mentioned\",\"menzel\",\"merely\",\"mermaid\",\"message\",\"met\",\"mexican\",\"mexico\",\"miguel\",\"mind\",\"minutes\",\"miss\",\"missed\",\"moana\",\"modern\",\"moment\",\"moments\",\"mood\",\"moral\",\"morals\",\"mother\",\"mountains\",\"movies\",\"moving\",\"muertos\",\"mufasa\",\"mulan\",\"music\",\"musical\",\"musician\",\"naive\",\"nala\",\"named\",\"narrative\",\"natural\",\"near\",\"nearly\",\"need\",\"needed\",\"needs\",\"new\",\"nice\",\"notch\",\"number\",\"obvious\",\"obviously\",\"ocean\",\"oh\",\"ok\",\"okay\",\"olaf\",\"old\",\"older\",\"ones\",\"open\",\"opinion\",\"opportunities\",\"opportunity\",\"order\",\"orders\",\"original\",\"oscar\",\"oscars\",\"outside\",\"outstanding\",\"overall\",\"overrated\",\"pain\",\"palace\",\"par\",\"parent\",\"parents\",\"particular\",\"particularly\",\"parts\",\"passion\",\"past\",\"pay\",\"people\",\"perfect\",\"perfection\",\"perfectly\",\"performances\",\"person\",\"personal\",\"personally\",\"picture\",\"pictures\",\"pig\",\"pirates\",\"pixar\",\"place\",\"plain\",\"planet\",\"play\",\"played\",\"playing\",\"pleasure\",\"plot\",\"plus\",\"pocahontas\",\"point\",\"pointless\",\"polynesian\",\"poor\",\"poorly\",\"pop\",\"portrayed\",\"positive\",\"possible\",\"power\",\"powerful\",\"powers\",\"practically\",\"praise\",\"predictable\",\"president\",\"pretty\",\"pride\",\"prince\",\"princes\",\"princess\",\"princesses\",\"probably\",\"problem\",\"problems\",\"production\",\"project\",\"properly\",\"protagonist\",\"protect\",\"public\",\"pumbaa\",\"pure\",\"quality\",\"queen\",\"questionable\",\"quick\",\"quickly\",\"quite\",\"rafiki\",\"ralph\",\"rapunzel\",\"rating\",\"reached\",\"real\",\"realistic\",\"really\",\"reason\",\"recall\",\"recent\",\"recently\",\"recommend\",\"reconciliation\",\"reef\",\"reflection\",\"refuses\",\"regarding\",\"regardless\",\"relatable\",\"relate\",\"relationship\",\"release\",\"released\",\"relief\",\"remarkable\",\"remember\",\"remembered\",\"renaissance\",\"repeat\",\"repetitive\",\"research\",\"responsibility\",\"responsible\",\"rest\",\"result\",\"return\",\"returned\",\"returns\",\"review\",\"reviews\",\"rich\",\"right\",\"rip\",\"rises\",\"road\",\"rock\",\"role\",\"roles\",\"romance\",\"romances\",\"romantic\",\"rule\",\"run\",\"sad\",\"said\",\"sang\",\"satisfy\",\"satisfying\",\"save\",\"saved\",\"saves\",\"saw\",\"say\",\"saying\",\"says\",\"scar\",\"scene\",\"scenes\",\"school\",\"score\",\"scores\",\"screen\",\"script\",\"sea\",\"seclude\",\"second\",\"secret\",\"seeing\",\"seen\",\"sees\",\"self\",\"selfish\",\"sense\",\"sequence\",\"sequences\",\"series\",\"seriously\",\"set\",\"setting\",\"shallow\",\"sharp\",\"sheer\",\"shenzi\",\"short\",\"shouldn\",\"showed\",\"showing\",\"shows\",\"sibling\",\"sidekick\",\"sidekicks\",\"sight\",\"silly\",\"simba\",\"similar\",\"simple\",\"simplistic\",\"simply\",\"sing\",\"singers\",\"singing\",\"single\",\"sings\",\"sister\",\"sisters\",\"situation\",\"slapstick\",\"sleeping\",\"slightly\",\"slowly\",\"small\",\"smiling\",\"snow\",\"snowman\",\"society\",\"somewhat\",\"son\",\"song\",\"songs\",\"soon\",\"sorry\",\"sort\",\"soul\",\"sound\",\"sounds\",\"soundtrack\",\"soundtracks\",\"speaking\",\"special\",\"spend\",\"spent\",\"spoilers\",\"stampede\",\"stand\",\"standards\",\"star\",\"stars\",\"start\",\"started\",\"state\",\"stellar\",\"step\",\"stitch\",\"stone\",\"stop\",\"stopping\",\"stories\",\"story\",\"storyline\",\"strange\",\"stranger\",\"strong\",\"stuck\",\"studio\",\"studios\",\"stunning\",\"stupid\",\"style\",\"subject\",\"success\",\"suddenly\",\"suffered\",\"summer\",\"superb\",\"superior\",\"suppose\",\"supposed\",\"sure\",\"surprise\",\"surprised\",\"surprisingly\",\"sven\",\"sweet\",\"taken\",\"takes\",\"taking\",\"tale\",\"talent\",\"tales\",\"talk\",\"talking\",\"tangled\",\"tantrum\",\"taylor\",\"te\",\"teach\",\"team\",\"tear\",\"tears\",\"tell\",\"tells\",\"terms\",\"terrible\",\"terribly\",\"terrific\",\"thank\",\"theme\",\"themes\",\"thing\",\"things\",\"think\",\"thinking\",\"thomas\",\"thought\",\"thrilling\",\"throne\",\"time\",\"timeless\",\"times\",\"timon\",\"today\",\"told\",\"tone\",\"tonight\",\"took\",\"totally\",\"touch\",\"touched\",\"touches\",\"touching\",\"toy\",\"tradition\",\"traditional\",\"treat\",\"tries\",\"trip\",\"troll\",\"trolls\",\"trouble\",\"true\",\"truly\",\"trust\",\"try\",\"trying\",\"turn\",\"turned\",\"turns\",\"twist\",\"typical\",\"uncle\",\"understand\",\"unfortunately\",\"unique\",\"unless\",\"unlike\",\"unnecessary\",\"upper\",\"use\",\"used\",\"usually\",\"values\",\"ve\",\"version\",\"villain\",\"villains\",\"visually\",\"visuals\",\"voice\",\"voiced\",\"voices\",\"wait\",\"walking\",\"wall\",\"walt\",\"want\",\"wanted\",\"wanting\",\"wants\",\"warned\",\"wasn\",\"waste\",\"watch\",\"watched\",\"watching\",\"water\",\"way\",\"weak\",\"went\",\"weren\",\"white\",\"winning\",\"winter\",\"wise\",\"wish\",\"woman\",\"women\",\"won\",\"wonder\",\"wonderful\",\"word\",\"words\",\"work\",\"worked\",\"world\",\"worry\",\"worst\",\"worth\",\"worthy\",\"wouldn\",\"wow\",\"written\",\"wrong\",\"year\",\"years\",\"yes\",\"young\",\"younger\",\"zootopia\"],\"x\":{\"__ndarray__\":\"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\",\"dtype\":\"float64\",\"shape\":[1000]},\"y\":{\"__ndarray__\":\"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\",\"dtype\":\"float64\",\"shape\":[1000]}}},\"id\":\"1c48efb2-3a95-4b83-b2ba-796dc5b015ca\",\"type\":\"ColumnDataSource\"},{\"attributes\":{},\"id\":\"35adfc8e-7f92-4b8a-912c-1a16b363af74\",\"type\":\"LinearScale\"},{\"attributes\":{\"dimension\":1,\"plot\":{\"id\":\"83440c61-6874-452e-9d6a-6c4068e31cb9\",\"subtype\":\"Figure\",\"type\":\"Plot\"},\"ticker\":{\"id\":\"e8eaef5e-e9cb-4e0d-ad72-b3b1de4daf29\",\"type\":\"BasicTicker\"}},\"id\":\"c295b02f-3018-4570-9e88-e9e9a1e78d67\",\"type\":\"Grid\"},{\"attributes\":{\"formatter\":{\"id\":\"b5d188f4-f74c-421b-825e-7f2f803dbd05\",\"type\":\"BasicTickFormatter\"},\"plot\":{\"id\":\"83440c61-6874-452e-9d6a-6c4068e31cb9\",\"subtype\":\"Figure\",\"type\":\"Plot\"},\"ticker\":{\"id\":\"45d31a3a-158a-461f-b436-c3060a67b862\",\"type\":\"BasicTicker\"}},\"id\":\"7737c50c-88ea-414a-9b8e-5f5b99b2e9df\",\"type\":\"LinearAxis\"},{\"attributes\":{},\"id\":\"b5d188f4-f74c-421b-825e-7f2f803dbd05\",\"type\":\"BasicTickFormatter\"},{\"attributes\":{},\"id\":\"aef9c4f9-74f9-4f45-8fc0-53f256f7f3c9\",\"type\":\"WheelZoomTool\"},{\"attributes\":{\"callback\":null},\"id\":\"9d2a848d-1739-4139-8974-92ac10862e32\",\"type\":\"DataRange1d\"},{\"attributes\":{\"below\":[{\"id\":\"7737c50c-88ea-414a-9b8e-5f5b99b2e9df\",\"type\":\"LinearAxis\"}],\"left\":[{\"id\":\"538cf422-7168-410a-ba89-a1acee952a6e\",\"type\":\"LinearAxis\"}],\"renderers\":[{\"id\":\"7737c50c-88ea-414a-9b8e-5f5b99b2e9df\",\"type\":\"LinearAxis\"},{\"id\":\"97d7e4f7-727f-47d1-b11b-22eb92809b99\",\"type\":\"Grid\"},{\"id\":\"538cf422-7168-410a-ba89-a1acee952a6e\",\"type\":\"LinearAxis\"},{\"id\":\"c295b02f-3018-4570-9e88-e9e9a1e78d67\",\"type\":\"Grid\"},{\"id\":\"37563ddc-7b8d-4fe3-8571-9fd79b0cf02d\",\"type\":\"BoxAnnotation\"},{\"id\":\"9c4be59a-6b24-4358-8297-203c682d47a0\",\"type\":\"GlyphRenderer\"},{\"id\":\"81a109fa-bcd8-4ec9-914f-3662a57251ba\",\"type\":\"LabelSet\"}],\"title\":{\"id\":\"25a060d8-0d9c-46cd-9a4d-d407b0c73fa3\",\"type\":\"Title\"},\"toolbar\":{\"id\":\"4e68fe3c-6ede-4539-bc45-984f3aa866e1\",\"type\":\"Toolbar\"},\"x_range\":{\"id\":\"d452c4fc-9e04-438b-ad3e-3c2bfdd40a0f\",\"type\":\"DataRange1d\"},\"x_scale\":{\"id\":\"52d9ae6e-22ab-4473-82df-8f40f5122e93\",\"type\":\"LinearScale\"},\"y_range\":{\"id\":\"9d2a848d-1739-4139-8974-92ac10862e32\",\"type\":\"DataRange1d\"},\"y_scale\":{\"id\":\"35adfc8e-7f92-4b8a-912c-1a16b363af74\",\"type\":\"LinearScale\"}},\"id\":\"83440c61-6874-452e-9d6a-6c4068e31cb9\",\"subtype\":\"Figure\",\"type\":\"Plot\"},{\"attributes\":{},\"id\":\"52d9ae6e-22ab-4473-82df-8f40f5122e93\",\"type\":\"LinearScale\"},{\"attributes\":{\"source\":{\"id\":\"1c48efb2-3a95-4b83-b2ba-796dc5b015ca\",\"type\":\"ColumnDataSource\"}},\"id\":\"4d0b91e3-077f-4e92-93b8-e9ce3709a07b\",\"type\":\"CDSView\"},{\"attributes\":{\"plot\":null,\"text\":\"\"},\"id\":\"25a060d8-0d9c-46cd-9a4d-d407b0c73fa3\",\"type\":\"Title\"},{\"attributes\":{},\"id\":\"691745ba-01e2-4afe-8be4-6c1311bc4046\",\"type\":\"BasicTickFormatter\"},{\"attributes\":{},\"id\":\"45d31a3a-158a-461f-b436-c3060a67b862\",\"type\":\"BasicTicker\"},{\"attributes\":{\"fill_alpha\":{\"value\":0.8},\"fill_color\":{\"value\":\"#1f77b4\"},\"size\":{\"units\":\"screen\",\"value\":12},\"x\":{\"field\":\"x\"},\"y\":{\"field\":\"y\"}},\"id\":\"1cc37ffa-6465-441e-b0b6-4c3d7e9258c3\",\"type\":\"Circle\"},{\"attributes\":{},\"id\":\"e8eaef5e-e9cb-4e0d-ad72-b3b1de4daf29\",\"type\":\"BasicTicker\"},{\"attributes\":{\"bottom_units\":\"screen\",\"fill_alpha\":{\"value\":0.5},\"fill_color\":{\"value\":\"lightgrey\"},\"left_units\":\"screen\",\"level\":\"overlay\",\"line_alpha\":{\"value\":1.0},\"line_color\":{\"value\":\"black\"},\"line_dash\":[4,4],\"line_width\":{\"value\":2},\"plot\":null,\"render_mode\":\"css\",\"right_units\":\"screen\",\"top_units\":\"screen\"},\"id\":\"37563ddc-7b8d-4fe3-8571-9fd79b0cf02d\",\"type\":\"BoxAnnotation\"},{\"attributes\":{\"callback\":null},\"id\":\"d452c4fc-9e04-438b-ad3e-3c2bfdd40a0f\",\"type\":\"DataRange1d\"},{\"attributes\":{\"active_drag\":\"auto\",\"active_inspect\":\"auto\",\"active_scroll\":\"auto\",\"active_tap\":\"auto\",\"tools\":[{\"id\":\"d77ca052-4e1f-46f3-b59b-37391eb4438e\",\"type\":\"PanTool\"},{\"id\":\"aef9c4f9-74f9-4f45-8fc0-53f256f7f3c9\",\"type\":\"WheelZoomTool\"},{\"id\":\"b3b6c205-5c02-4290-a7ef-e15247b4f937\",\"type\":\"BoxZoomTool\"},{\"id\":\"5016173e-f652-49a4-95d8-f0bb574224af\",\"type\":\"SaveTool\"},{\"id\":\"7fe3decc-295a-4cd2-a517-ef50939d7d6f\",\"type\":\"ResetTool\"},{\"id\":\"2dd92a33-4943-4e3b-b2fb-961edfd22dbc\",\"type\":\"HelpTool\"}]},\"id\":\"4e68fe3c-6ede-4539-bc45-984f3aa866e1\",\"type\":\"Toolbar\"},{\"attributes\":{},\"id\":\"5016173e-f652-49a4-95d8-f0bb574224af\",\"type\":\"SaveTool\"}],\"root_ids\":[\"83440c61-6874-452e-9d6a-6c4068e31cb9\"]},\"title\":\"Bokeh Application\",\"version\":\"0.12.10\"}};\n",
       "    var render_items = [{\"docid\":\"0a765f92-d1de-47f7-9a72-5e54d4b57385\",\"elementid\":\"928b7150-ef72-4d62-935b-764e3857c66c\",\"modelid\":\"83440c61-6874-452e-9d6a-6c4068e31cb9\",\"notebook_comms_target\":\"004943a3-d631-4c11-9606-191dbfb94150\"}];\n",
       "\n",
       "    root.Bokeh.embed.embed_items(docs_json, render_items);\n",
       "  }\n",
       "\n",
       "  if (root.Bokeh !== undefined) {\n",
       "    embed_document(root);\n",
       "  } else {\n",
       "    var attempts = 0;\n",
       "    var timer = setInterval(function(root) {\n",
       "      if (root.Bokeh !== undefined) {\n",
       "        embed_document(root);\n",
       "        clearInterval(timer);\n",
       "      }\n",
       "      attempts++;\n",
       "      if (attempts > 100) {\n",
       "        console.log(\"Bokeh: ERROR: Unable to embed document because BokehJS library is missing\")\n",
       "        clearInterval(timer);\n",
       "      }\n",
       "    }, 10, root)\n",
       "  }\n",
       "})(window);"
      ],
      "application/vnd.bokehjs_exec.v0+json": ""
     },
     "metadata": {
      "application/vnd.bokehjs_exec.v0+json": {
       "id": "83440c61-6874-452e-9d6a-6c4068e31cb9"
      }
     },
     "output_type": "display_data"
    },
    {
     "data": {
      "text/html": [
       "<p><code>&lt;Bokeh Notebook handle for <strong>In[27]</strong>&gt;</code></p>"
      ],
      "text/plain": [
       "<bokeh.io.notebook.CommsHandle at 0x2592684e780>"
      ]
     },
     "execution_count": 27,
     "metadata": {},
     "output_type": "execute_result"
    }
   ],
   "source": [
    "# Separation of words\n",
    "svd = TruncatedSVD(n_components=2)\n",
    "words_2d = svd.fit_transform(tfidf.T)\n",
    " \n",
    "df = pd.DataFrame(columns=['x', 'y', 'word'])\n",
    "df['x'], df['y'], df['word'] = words_2d[:,0], words_2d[:,1], tfidf_vectorizer.get_feature_names()\n",
    " \n",
    "source = ColumnDataSource(ColumnDataSource.from_df(df))\n",
    "labels = LabelSet(x=\"x\", y=\"y\", text=\"word\", y_offset=8,\n",
    "                  text_font_size=\"8pt\", text_color=\"#555555\",\n",
    "                  source=source, text_align='center')\n",
    " \n",
    "plot = figure(plot_width=600, plot_height=600)\n",
    "plot.circle(\"x\", \"y\", size=12, source=source, line_color=\"black\", fill_alpha=0.8)\n",
    "plot.add_layout(labels)\n",
    "show(plot, notebook_handle=True)"
   ]
  },
  {
   "cell_type": "markdown",
   "metadata": {},
   "source": [
    "> From the above plots, we can see that our documents and words are a bit more spread out than in the original NMF model. This is, in part, due to the addition of some of the words that were very frequent ('movie', 'film') being added to the stop words list. Since these two words were in many of the documents, they made them more similar to each other. Removing them resulted in the documents having a lower similarity score. While this made the documents less similar, I felt it necessary to remove them since all of the reviews are about movies and did not want to include those words as keywords."
   ]
  },
  {
   "cell_type": "markdown",
   "metadata": {},
   "source": [
    "Now that we have found the best tuned NMF model, I now want to see if changing the number of topics will give us better insights into the reviews. To do this, I will return the top features for a model of 4 topics and a model of 10 topics."
   ]
  },
  {
   "cell_type": "code",
   "execution_count": 28,
   "metadata": {},
   "outputs": [
    {
     "name": "stdout",
     "output_type": "stream",
     "text": [
      "Fitting the NMF model (Frobenius norm) with tf-idf features, n_samples=100 and n_features=1000...\n",
      "done in 0.154s.\n",
      "\n",
      "\n",
      "Topics in NMF model (Frobenius norm):\n",
      "Topic #0: simba king lion disney best animated animation great scar characters\n",
      "Topic #1: elsa anna love hans frozen princess disney kristoff ice queen\n",
      "Topic #2: pixar mexican coco family miguel mexico dead culture make death\n",
      "Topic #3: moana maui disney good character zootopia plot just story great\n",
      "\n"
     ]
    }
   ],
   "source": [
    "n_components= 4\n",
    "\n",
    "# Fit the NMF model\n",
    "print(\"Fitting the NMF model (Frobenius norm) with tf-idf features, \"\n",
    "      \"n_samples=%d and n_features=%d...\"\n",
    "      % (len(reviews), n_features))\n",
    "t0 = time()\n",
    "nmf = NMF(n_components=n_components, random_state=1,\n",
    "          alpha=.1, l1_ratio=.5).fit(tfidf)\n",
    "print(\"done in %0.3fs.\" % (time() - t0))\n",
    "print()\n",
    "print(\"\\nTopics in NMF model (Frobenius norm):\")\n",
    "tfidf_feature_names = tfidf_vectorizer.get_feature_names()\n",
    "print_top_words(nmf, tfidf_feature_names, n_top_words)"
   ]
  },
  {
   "cell_type": "code",
   "execution_count": 29,
   "metadata": {},
   "outputs": [
    {
     "name": "stdout",
     "output_type": "stream",
     "text": [
      "Fitting the NMF model (Frobenius norm) with tf-idf features, n_samples=100 and n_features=1000...\n",
      "done in 0.116s.\n",
      "\n",
      "\n",
      "Topics in NMF model (Frobenius norm):\n",
      "Topic #0: disney just like characters movies animation best story great animated\n",
      "Topic #1: elsa anna love hans kristoff princess ice queen prince frozen\n",
      "Topic #2: coco miguel dead family land death musician pixar tradition grandmother\n",
      "Topic #3: moana maui zootopia character ocean plot fun heart need ending\n",
      "Topic #4: simba scar king mufasa lion best father cub nala stampede\n",
      "Topic #5: mexican pixar born mexico culture make cried saw just family\n",
      "Topic #6: accurate playing favorite great mermaid following fond food force forced\n",
      "Topic #7: boring new positive don frankly reviews level play certainly word\n",
      "Topic #8: daughter dia los frozen muertos walking background happens depth planet\n",
      "Topic #9: great responsibility lessons learned terrific inspired forget younger childhood cast\n",
      "\n"
     ]
    }
   ],
   "source": [
    "n_components= 10\n",
    "\n",
    "# Fit the NMF model\n",
    "print(\"Fitting the NMF model (Frobenius norm) with tf-idf features, \"\n",
    "      \"n_samples=%d and n_features=%d...\"\n",
    "      % (len(reviews), n_features))\n",
    "t0 = time()\n",
    "nmf = NMF(n_components=n_components, random_state=1,\n",
    "          alpha=.1, l1_ratio=.5).fit(tfidf)\n",
    "print(\"done in %0.3fs.\" % (time() - t0))\n",
    "print()\n",
    "print(\"\\nTopics in NMF model (Frobenius norm):\")\n",
    "tfidf_feature_names = tfidf_vectorizer.get_feature_names()\n",
    "print_top_words(nmf, tfidf_feature_names, n_top_words)"
   ]
  },
  {
   "cell_type": "markdown",
   "metadata": {},
   "source": [
    "> Much like the homework 7 results, I can see that separating the reviews into 4 topics produced a topic model that separated the reviews by movie. While this may have its uses, I still hold firm that a higher number of topics provides more insight into what the reviews are about other than which movie they belong to. The model with 10 topics began to detereriate, in terms of it's feature words' ability to describe what the reviews within that topic are about, at topic #6. "
   ]
  },
  {
   "cell_type": "markdown",
   "metadata": {},
   "source": [
    "From the NMF analysis above, I have found that the best NMF model is the Frobenius norm implemenation with 6 topics. Next, I will perform topic analysis using an LDA model and then compare the results."
   ]
  },
  {
   "cell_type": "markdown",
   "metadata": {},
   "source": [
    "#### <a name=\"LDA-Model\"></a>LDA Model"
   ]
  },
  {
   "cell_type": "markdown",
   "metadata": {},
   "source": [
    "The optimal range for this type of model is 30-50. Since I only have 100 reviews, I will go with a number lower than this and use 6."
   ]
  },
  {
   "cell_type": "code",
   "execution_count": 47,
   "metadata": {},
   "outputs": [
    {
     "name": "stdout",
     "output_type": "stream",
     "text": [
      "Extracting tf features for LDA...\n",
      "done in 0.036s.\n",
      "\n",
      "Fitting LDA models with tf features, n_samples=100 and n_features=1000...\n",
      "done in 0.283s.\n",
      "\n",
      "Topics in LDA model:\n",
      "Topic #0: simba king lion disney animated scar story animation mufasa father\n",
      "Topic #1: disney family just moana like little love anna going end\n",
      "Topic #2: king lion simba scar story mufasa great disney irons really\n",
      "Topic #3: pixar just make coco inside life say characters time love\n",
      "Topic #4: elsa disney story like love great just anna characters best\n",
      "Topic #5: disney just story like love elsa great anna characters movies\n",
      "\n"
     ]
    }
   ],
   "source": [
    "n_components = 6\n",
    "# Use tf (raw term count) features for LDA.\n",
    "print(\"Extracting tf features for LDA...\")\n",
    "tf_vectorizer = CountVectorizer(max_df=0.95, min_df=2,\n",
    "                                max_features=n_features,\n",
    "                                stop_words=my_stop_words)\n",
    "t0 = time()\n",
    "tf = tf_vectorizer.fit_transform(reviews)\n",
    "print(\"done in %0.3fs.\" % (time() - t0))\n",
    "print()\n",
    "\n",
    "print(\"Fitting LDA models with tf features, \"\n",
    "      \"n_samples=%d and n_features=%d...\"\n",
    "      % (len(reviews), n_features))\n",
    "lda = LatentDirichletAllocation(n_components=n_components, max_iter=5,\n",
    "                                learning_method='online',\n",
    "                                learning_offset=50.,\n",
    "                                random_state=0)\n",
    "t0 = time()\n",
    "lda.fit(tf)\n",
    "print(\"done in %0.3fs.\" % (time() - t0))\n",
    "\n",
    "print(\"\\nTopics in LDA model:\")\n",
    "tf_feature_names = tf_vectorizer.get_feature_names()\n",
    "print_top_words(lda, tf_feature_names, n_top_words)"
   ]
  },
  {
   "cell_type": "markdown",
   "metadata": {},
   "source": [
    "> Due to the sparse number of reviews (100), the topics produced by the LDA model did not produce featues which would allow you to identify what the reviews within each topic are about. Another hinderance with this model is the sharing of keywords. Since many of the reviews compare the movie they are the subject of to other movies, the topics tend to blend movies together in terms of features."
   ]
  },
  {
   "cell_type": "markdown",
   "metadata": {},
   "source": [
    "## <a name=\"Conclusion\"></a>Conclusion"
   ]
  },
  {
   "cell_type": "markdown",
   "metadata": {},
   "source": [
    "From the analysis, I found the best approach for topic modeling of the 100 movie reviews from HWs 5 and 7 to be NMF with the Frobenius norm implementation because the features produced were more intuitive and the degredation of features occured more slowly. The optimal number of topics for this sparse data set was foun to be 6. This is due to the features of subsequent topics proviing no insight into the reviews.\n",
    "\n",
    "In order to produce a greater number of topics / better model, it would be necessary to pull in a greater number of reviews."
   ]
  }
 ],
 "metadata": {
  "kernelspec": {
   "display_name": "Python 3",
   "language": "python",
   "name": "python3"
  },
  "language_info": {
   "codemirror_mode": {
    "name": "ipython",
    "version": 3
   },
   "file_extension": ".py",
   "mimetype": "text/x-python",
   "name": "python",
   "nbconvert_exporter": "python",
   "pygments_lexer": "ipython3",
   "version": "3.6.3"
  }
 },
 "nbformat": 4,
 "nbformat_minor": 2
}
